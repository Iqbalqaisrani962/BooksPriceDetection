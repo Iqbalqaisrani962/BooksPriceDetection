{
 "cells": [
  {
   "cell_type": "code",
   "execution_count": 292,
   "metadata": {},
   "outputs": [
    {
     "data": {
      "text/html": [
       "<div>\n",
       "<style scoped>\n",
       "    .dataframe tbody tr th:only-of-type {\n",
       "        vertical-align: middle;\n",
       "    }\n",
       "\n",
       "    .dataframe tbody tr th {\n",
       "        vertical-align: top;\n",
       "    }\n",
       "\n",
       "    .dataframe thead th {\n",
       "        text-align: right;\n",
       "    }\n",
       "</style>\n",
       "<table border=\"1\" class=\"dataframe\">\n",
       "  <thead>\n",
       "    <tr style=\"text-align: right;\">\n",
       "      <th></th>\n",
       "      <th>Title</th>\n",
       "      <th>People_Review</th>\n",
       "      <th>Selling_Price</th>\n",
       "      <th>Deliver_Charges</th>\n",
       "      <th>Seller_Rating</th>\n",
       "      <th>Shipping_Timing_Rating</th>\n",
       "      <th>Discount_Percentage</th>\n",
       "      <th>Original_Price</th>\n",
       "      <th>Chat_Responce_Rate</th>\n",
       "    </tr>\n",
       "  </thead>\n",
       "  <tbody>\n",
       "    <tr>\n",
       "      <th>0</th>\n",
       "      <td>World Times The Political World Map Edited by ...</td>\n",
       "      <td>100 Ratings</td>\n",
       "      <td>Rs. 300</td>\n",
       "      <td>Free</td>\n",
       "      <td>98%</td>\n",
       "      <td>97%</td>\n",
       "      <td>Not Found</td>\n",
       "      <td>Not Found</td>\n",
       "      <td>100%</td>\n",
       "    </tr>\n",
       "    <tr>\n",
       "      <th>1</th>\n",
       "      <td>thik grow and rich#rich dad poor dad</td>\n",
       "      <td>61 Ratings</td>\n",
       "      <td>Rs. 400</td>\n",
       "      <td>Free</td>\n",
       "      <td>82%</td>\n",
       "      <td>100%</td>\n",
       "      <td>-55%</td>\n",
       "      <td>Rs. 895</td>\n",
       "      <td>86%</td>\n",
       "    </tr>\n",
       "    <tr>\n",
       "      <th>2</th>\n",
       "      <td>Peer e Kamil By umer Ahmed Best Selling Urdu Book</td>\n",
       "      <td>113 Ratings</td>\n",
       "      <td>Rs. 628</td>\n",
       "      <td>Rs. 99</td>\n",
       "      <td>80%</td>\n",
       "      <td>100%</td>\n",
       "      <td>-58%</td>\n",
       "      <td>Rs. 1,500</td>\n",
       "      <td>97%</td>\n",
       "    </tr>\n",
       "    <tr>\n",
       "      <th>3</th>\n",
       "      <td>The Silent Patient Novel by Alex Michaelides</td>\n",
       "      <td>43 Ratings</td>\n",
       "      <td>Rs. 250</td>\n",
       "      <td>Free</td>\n",
       "      <td>81%</td>\n",
       "      <td>100%</td>\n",
       "      <td>-75%</td>\n",
       "      <td>Rs. 999</td>\n",
       "      <td>100%</td>\n",
       "    </tr>\n",
       "    <tr>\n",
       "      <th>4</th>\n",
       "      <td>Rich Dad, Poor Dad / Atomic Habits /Think and ...</td>\n",
       "      <td>238 Ratings</td>\n",
       "      <td>Rs. 899</td>\n",
       "      <td>Free</td>\n",
       "      <td>87%</td>\n",
       "      <td>100%</td>\n",
       "      <td>-80%</td>\n",
       "      <td>Rs. 4,499</td>\n",
       "      <td>100%</td>\n",
       "    </tr>\n",
       "  </tbody>\n",
       "</table>\n",
       "</div>"
      ],
      "text/plain": [
       "                                               Title People_Review  \\\n",
       "0  World Times The Political World Map Edited by ...   100 Ratings   \n",
       "1               thik grow and rich#rich dad poor dad    61 Ratings   \n",
       "2  Peer e Kamil By umer Ahmed Best Selling Urdu Book   113 Ratings   \n",
       "3       The Silent Patient Novel by Alex Michaelides    43 Ratings   \n",
       "4  Rich Dad, Poor Dad / Atomic Habits /Think and ...   238 Ratings   \n",
       "\n",
       "  Selling_Price Deliver_Charges Seller_Rating Shipping_Timing_Rating  \\\n",
       "0       Rs. 300            Free           98%                    97%   \n",
       "1       Rs. 400            Free           82%                   100%   \n",
       "2       Rs. 628          Rs. 99           80%                   100%   \n",
       "3       Rs. 250            Free           81%                   100%   \n",
       "4       Rs. 899            Free           87%                   100%   \n",
       "\n",
       "  Discount_Percentage Original_Price Chat_Responce_Rate  \n",
       "0           Not Found      Not Found               100%  \n",
       "1                -55%        Rs. 895                86%  \n",
       "2                -58%      Rs. 1,500                97%  \n",
       "3                -75%        Rs. 999               100%  \n",
       "4                -80%      Rs. 4,499               100%  "
      ]
     },
     "execution_count": 292,
     "metadata": {},
     "output_type": "execute_result"
    }
   ],
   "source": [
    "import numpy as np\n",
    "import pandas as pd\n",
    "from sklearn.model_selection import train_test_split\n",
    "import matplotlib.pyplot as plt\n",
    "import seaborn as sns\n",
    "df= pd.read_csv(\"dataset.csv\")\n",
    "df.head()"
   ]
  },
  {
   "cell_type": "code",
   "execution_count": 293,
   "metadata": {},
   "outputs": [
    {
     "data": {
      "text/html": [
       "<div>\n",
       "<style scoped>\n",
       "    .dataframe tbody tr th:only-of-type {\n",
       "        vertical-align: middle;\n",
       "    }\n",
       "\n",
       "    .dataframe tbody tr th {\n",
       "        vertical-align: top;\n",
       "    }\n",
       "\n",
       "    .dataframe thead th {\n",
       "        text-align: right;\n",
       "    }\n",
       "</style>\n",
       "<table border=\"1\" class=\"dataframe\">\n",
       "  <thead>\n",
       "    <tr style=\"text-align: right;\">\n",
       "      <th></th>\n",
       "      <th>Title</th>\n",
       "      <th>People_Review</th>\n",
       "      <th>Deliver_Charges</th>\n",
       "      <th>Seller_Rating</th>\n",
       "      <th>Shipping_Timing_Rating</th>\n",
       "      <th>Discount_Percentage</th>\n",
       "      <th>Selling_Price</th>\n",
       "      <th>Original_Price</th>\n",
       "      <th>Chat_Responce_Rate</th>\n",
       "    </tr>\n",
       "  </thead>\n",
       "  <tbody>\n",
       "    <tr>\n",
       "      <th>0</th>\n",
       "      <td>World Times The Political World Map Edited by ...</td>\n",
       "      <td>100 Ratings</td>\n",
       "      <td>Free</td>\n",
       "      <td>98%</td>\n",
       "      <td>97%</td>\n",
       "      <td>Not Found</td>\n",
       "      <td>Rs. 300</td>\n",
       "      <td>Not Found</td>\n",
       "      <td>100%</td>\n",
       "    </tr>\n",
       "    <tr>\n",
       "      <th>1</th>\n",
       "      <td>thik grow and rich#rich dad poor dad</td>\n",
       "      <td>61 Ratings</td>\n",
       "      <td>Free</td>\n",
       "      <td>82%</td>\n",
       "      <td>100%</td>\n",
       "      <td>-55%</td>\n",
       "      <td>Rs. 400</td>\n",
       "      <td>Rs. 895</td>\n",
       "      <td>86%</td>\n",
       "    </tr>\n",
       "    <tr>\n",
       "      <th>2</th>\n",
       "      <td>Peer e Kamil By umer Ahmed Best Selling Urdu Book</td>\n",
       "      <td>113 Ratings</td>\n",
       "      <td>Rs. 99</td>\n",
       "      <td>80%</td>\n",
       "      <td>100%</td>\n",
       "      <td>-58%</td>\n",
       "      <td>Rs. 628</td>\n",
       "      <td>Rs. 1,500</td>\n",
       "      <td>97%</td>\n",
       "    </tr>\n",
       "    <tr>\n",
       "      <th>3</th>\n",
       "      <td>The Silent Patient Novel by Alex Michaelides</td>\n",
       "      <td>43 Ratings</td>\n",
       "      <td>Free</td>\n",
       "      <td>81%</td>\n",
       "      <td>100%</td>\n",
       "      <td>-75%</td>\n",
       "      <td>Rs. 250</td>\n",
       "      <td>Rs. 999</td>\n",
       "      <td>100%</td>\n",
       "    </tr>\n",
       "    <tr>\n",
       "      <th>4</th>\n",
       "      <td>Rich Dad, Poor Dad / Atomic Habits /Think and ...</td>\n",
       "      <td>238 Ratings</td>\n",
       "      <td>Free</td>\n",
       "      <td>87%</td>\n",
       "      <td>100%</td>\n",
       "      <td>-80%</td>\n",
       "      <td>Rs. 899</td>\n",
       "      <td>Rs. 4,499</td>\n",
       "      <td>100%</td>\n",
       "    </tr>\n",
       "  </tbody>\n",
       "</table>\n",
       "</div>"
      ],
      "text/plain": [
       "                                               Title People_Review  \\\n",
       "0  World Times The Political World Map Edited by ...   100 Ratings   \n",
       "1               thik grow and rich#rich dad poor dad    61 Ratings   \n",
       "2  Peer e Kamil By umer Ahmed Best Selling Urdu Book   113 Ratings   \n",
       "3       The Silent Patient Novel by Alex Michaelides    43 Ratings   \n",
       "4  Rich Dad, Poor Dad / Atomic Habits /Think and ...   238 Ratings   \n",
       "\n",
       "  Deliver_Charges Seller_Rating Shipping_Timing_Rating Discount_Percentage  \\\n",
       "0            Free           98%                    97%           Not Found   \n",
       "1            Free           82%                   100%                -55%   \n",
       "2          Rs. 99           80%                   100%                -58%   \n",
       "3            Free           81%                   100%                -75%   \n",
       "4            Free           87%                   100%                -80%   \n",
       "\n",
       "  Selling_Price Original_Price Chat_Responce_Rate  \n",
       "0       Rs. 300      Not Found               100%  \n",
       "1       Rs. 400        Rs. 895                86%  \n",
       "2       Rs. 628      Rs. 1,500                97%  \n",
       "3       Rs. 250        Rs. 999               100%  \n",
       "4       Rs. 899      Rs. 4,499               100%  "
      ]
     },
     "execution_count": 293,
     "metadata": {},
     "output_type": "execute_result"
    }
   ],
   "source": [
    "df = df[['Title', 'People_Review', 'Deliver_Charges', 'Seller_Rating', 'Shipping_Timing_Rating', 'Discount_Percentage', 'Selling_Price', 'Original_Price', 'Chat_Responce_Rate']]\n",
    "df.head()"
   ]
  },
  {
   "cell_type": "code",
   "execution_count": 294,
   "metadata": {},
   "outputs": [
    {
     "data": {
      "text/html": [
       "<div>\n",
       "<style scoped>\n",
       "    .dataframe tbody tr th:only-of-type {\n",
       "        vertical-align: middle;\n",
       "    }\n",
       "\n",
       "    .dataframe tbody tr th {\n",
       "        vertical-align: top;\n",
       "    }\n",
       "\n",
       "    .dataframe thead th {\n",
       "        text-align: right;\n",
       "    }\n",
       "</style>\n",
       "<table border=\"1\" class=\"dataframe\">\n",
       "  <thead>\n",
       "    <tr style=\"text-align: right;\">\n",
       "      <th></th>\n",
       "      <th>Title</th>\n",
       "      <th>People_Review</th>\n",
       "      <th>Deliver_Charges</th>\n",
       "      <th>Seller_Rating</th>\n",
       "      <th>Shipping_Timing_Rating</th>\n",
       "      <th>Discount_Percentage</th>\n",
       "      <th>Selling_Price</th>\n",
       "      <th>Original_Price</th>\n",
       "      <th>Chat_Responce_Rate</th>\n",
       "    </tr>\n",
       "  </thead>\n",
       "  <tbody>\n",
       "    <tr>\n",
       "      <th>0</th>\n",
       "      <td>World Times The Political World Map Edited by ...</td>\n",
       "      <td>100 Ratings</td>\n",
       "      <td>NaN</td>\n",
       "      <td>98%</td>\n",
       "      <td>97%</td>\n",
       "      <td>NaN</td>\n",
       "      <td>Rs. 300</td>\n",
       "      <td>NaN</td>\n",
       "      <td>100%</td>\n",
       "    </tr>\n",
       "    <tr>\n",
       "      <th>1</th>\n",
       "      <td>thik grow and rich#rich dad poor dad</td>\n",
       "      <td>61 Ratings</td>\n",
       "      <td>NaN</td>\n",
       "      <td>82%</td>\n",
       "      <td>100%</td>\n",
       "      <td>-55%</td>\n",
       "      <td>Rs. 400</td>\n",
       "      <td>Rs. 895</td>\n",
       "      <td>86%</td>\n",
       "    </tr>\n",
       "    <tr>\n",
       "      <th>2</th>\n",
       "      <td>Peer e Kamil By umer Ahmed Best Selling Urdu Book</td>\n",
       "      <td>113 Ratings</td>\n",
       "      <td>Rs. 99</td>\n",
       "      <td>80%</td>\n",
       "      <td>100%</td>\n",
       "      <td>-58%</td>\n",
       "      <td>Rs. 628</td>\n",
       "      <td>Rs. 1,500</td>\n",
       "      <td>97%</td>\n",
       "    </tr>\n",
       "    <tr>\n",
       "      <th>3</th>\n",
       "      <td>The Silent Patient Novel by Alex Michaelides</td>\n",
       "      <td>43 Ratings</td>\n",
       "      <td>NaN</td>\n",
       "      <td>81%</td>\n",
       "      <td>100%</td>\n",
       "      <td>-75%</td>\n",
       "      <td>Rs. 250</td>\n",
       "      <td>Rs. 999</td>\n",
       "      <td>100%</td>\n",
       "    </tr>\n",
       "    <tr>\n",
       "      <th>4</th>\n",
       "      <td>Rich Dad, Poor Dad / Atomic Habits /Think and ...</td>\n",
       "      <td>238 Ratings</td>\n",
       "      <td>NaN</td>\n",
       "      <td>87%</td>\n",
       "      <td>100%</td>\n",
       "      <td>-80%</td>\n",
       "      <td>Rs. 899</td>\n",
       "      <td>Rs. 4,499</td>\n",
       "      <td>100%</td>\n",
       "    </tr>\n",
       "  </tbody>\n",
       "</table>\n",
       "</div>"
      ],
      "text/plain": [
       "                                               Title People_Review  \\\n",
       "0  World Times The Political World Map Edited by ...   100 Ratings   \n",
       "1               thik grow and rich#rich dad poor dad    61 Ratings   \n",
       "2  Peer e Kamil By umer Ahmed Best Selling Urdu Book   113 Ratings   \n",
       "3       The Silent Patient Novel by Alex Michaelides    43 Ratings   \n",
       "4  Rich Dad, Poor Dad / Atomic Habits /Think and ...   238 Ratings   \n",
       "\n",
       "  Deliver_Charges Seller_Rating Shipping_Timing_Rating Discount_Percentage  \\\n",
       "0             NaN           98%                    97%                 NaN   \n",
       "1             NaN           82%                   100%                -55%   \n",
       "2          Rs. 99           80%                   100%                -58%   \n",
       "3             NaN           81%                   100%                -75%   \n",
       "4             NaN           87%                   100%                -80%   \n",
       "\n",
       "  Selling_Price Original_Price Chat_Responce_Rate  \n",
       "0       Rs. 300            NaN               100%  \n",
       "1       Rs. 400        Rs. 895                86%  \n",
       "2       Rs. 628      Rs. 1,500                97%  \n",
       "3       Rs. 250        Rs. 999               100%  \n",
       "4       Rs. 899      Rs. 4,499               100%  "
      ]
     },
     "execution_count": 294,
     "metadata": {},
     "output_type": "execute_result"
    }
   ],
   "source": [
    "df = df.replace({'Deliver_Charges': {'Free':np.NaN}})\n",
    "df = df.replace({'Discount_Percentage': {'Not Found':np.NaN}})\n",
    "df = df.replace({'Original_Price': {'Not Found':np.NaN}})\n",
    "df.head()"
   ]
  },
  {
   "cell_type": "code",
   "execution_count": 295,
   "metadata": {},
   "outputs": [
    {
     "data": {
      "text/html": [
       "<div>\n",
       "<style scoped>\n",
       "    .dataframe tbody tr th:only-of-type {\n",
       "        vertical-align: middle;\n",
       "    }\n",
       "\n",
       "    .dataframe tbody tr th {\n",
       "        vertical-align: top;\n",
       "    }\n",
       "\n",
       "    .dataframe thead th {\n",
       "        text-align: right;\n",
       "    }\n",
       "</style>\n",
       "<table border=\"1\" class=\"dataframe\">\n",
       "  <thead>\n",
       "    <tr style=\"text-align: right;\">\n",
       "      <th></th>\n",
       "      <th>People_Review</th>\n",
       "      <th>Deliver_Charges</th>\n",
       "      <th>Seller_Rating</th>\n",
       "      <th>Shipping_Timing_Rating</th>\n",
       "      <th>Discount_Percentage</th>\n",
       "      <th>Selling_Price</th>\n",
       "      <th>Original_Price</th>\n",
       "      <th>Chat_Responce_Rate</th>\n",
       "    </tr>\n",
       "  </thead>\n",
       "  <tbody>\n",
       "    <tr>\n",
       "      <th>0</th>\n",
       "      <td>100 Ratings</td>\n",
       "      <td>NaN</td>\n",
       "      <td>98%</td>\n",
       "      <td>97%</td>\n",
       "      <td>NaN</td>\n",
       "      <td>Rs. 300</td>\n",
       "      <td>NaN</td>\n",
       "      <td>100%</td>\n",
       "    </tr>\n",
       "    <tr>\n",
       "      <th>1</th>\n",
       "      <td>61 Ratings</td>\n",
       "      <td>NaN</td>\n",
       "      <td>82%</td>\n",
       "      <td>100%</td>\n",
       "      <td>-55%</td>\n",
       "      <td>Rs. 400</td>\n",
       "      <td>Rs. 895</td>\n",
       "      <td>86%</td>\n",
       "    </tr>\n",
       "    <tr>\n",
       "      <th>2</th>\n",
       "      <td>113 Ratings</td>\n",
       "      <td>Rs. 99</td>\n",
       "      <td>80%</td>\n",
       "      <td>100%</td>\n",
       "      <td>-58%</td>\n",
       "      <td>Rs. 628</td>\n",
       "      <td>Rs. 1,500</td>\n",
       "      <td>97%</td>\n",
       "    </tr>\n",
       "    <tr>\n",
       "      <th>3</th>\n",
       "      <td>43 Ratings</td>\n",
       "      <td>NaN</td>\n",
       "      <td>81%</td>\n",
       "      <td>100%</td>\n",
       "      <td>-75%</td>\n",
       "      <td>Rs. 250</td>\n",
       "      <td>Rs. 999</td>\n",
       "      <td>100%</td>\n",
       "    </tr>\n",
       "    <tr>\n",
       "      <th>4</th>\n",
       "      <td>238 Ratings</td>\n",
       "      <td>NaN</td>\n",
       "      <td>87%</td>\n",
       "      <td>100%</td>\n",
       "      <td>-80%</td>\n",
       "      <td>Rs. 899</td>\n",
       "      <td>Rs. 4,499</td>\n",
       "      <td>100%</td>\n",
       "    </tr>\n",
       "    <tr>\n",
       "      <th>...</th>\n",
       "      <td>...</td>\n",
       "      <td>...</td>\n",
       "      <td>...</td>\n",
       "      <td>...</td>\n",
       "      <td>...</td>\n",
       "      <td>...</td>\n",
       "      <td>...</td>\n",
       "      <td>...</td>\n",
       "    </tr>\n",
       "    <tr>\n",
       "      <th>4076</th>\n",
       "      <td>6 Ratings</td>\n",
       "      <td>NaN</td>\n",
       "      <td>87%</td>\n",
       "      <td>100%</td>\n",
       "      <td>-78%</td>\n",
       "      <td>Rs. 445</td>\n",
       "      <td>Rs. 1,999</td>\n",
       "      <td>100%</td>\n",
       "    </tr>\n",
       "    <tr>\n",
       "      <th>4077</th>\n",
       "      <td>3 Ratings</td>\n",
       "      <td>NaN</td>\n",
       "      <td>98%</td>\n",
       "      <td>98%</td>\n",
       "      <td>NaN</td>\n",
       "      <td>Rs. 500</td>\n",
       "      <td>NaN</td>\n",
       "      <td>100%</td>\n",
       "    </tr>\n",
       "    <tr>\n",
       "      <th>4078</th>\n",
       "      <td>465 Ratings</td>\n",
       "      <td>NaN</td>\n",
       "      <td>89%</td>\n",
       "      <td>98%</td>\n",
       "      <td>-1%</td>\n",
       "      <td>Rs. 395</td>\n",
       "      <td>Rs. 399</td>\n",
       "      <td>99%</td>\n",
       "    </tr>\n",
       "    <tr>\n",
       "      <th>4079</th>\n",
       "      <td>4 Ratings</td>\n",
       "      <td>NaN</td>\n",
       "      <td>New Seller</td>\n",
       "      <td>100%</td>\n",
       "      <td>-20%</td>\n",
       "      <td>Rs. 682</td>\n",
       "      <td>Rs. 850</td>\n",
       "      <td>93%</td>\n",
       "    </tr>\n",
       "    <tr>\n",
       "      <th>4080</th>\n",
       "      <td>No Ratings</td>\n",
       "      <td>NaN</td>\n",
       "      <td>98%</td>\n",
       "      <td>98%</td>\n",
       "      <td>-25%</td>\n",
       "      <td>Rs. 300</td>\n",
       "      <td>Rs. 400</td>\n",
       "      <td>100%</td>\n",
       "    </tr>\n",
       "  </tbody>\n",
       "</table>\n",
       "<p>4081 rows × 8 columns</p>\n",
       "</div>"
      ],
      "text/plain": [
       "     People_Review Deliver_Charges Seller_Rating Shipping_Timing_Rating  \\\n",
       "0      100 Ratings             NaN           98%                    97%   \n",
       "1       61 Ratings             NaN           82%                   100%   \n",
       "2      113 Ratings          Rs. 99           80%                   100%   \n",
       "3       43 Ratings             NaN           81%                   100%   \n",
       "4      238 Ratings             NaN           87%                   100%   \n",
       "...            ...             ...           ...                    ...   \n",
       "4076     6 Ratings             NaN           87%                   100%   \n",
       "4077     3 Ratings             NaN           98%                    98%   \n",
       "4078   465 Ratings             NaN           89%                    98%   \n",
       "4079     4 Ratings             NaN    New Seller                   100%   \n",
       "4080    No Ratings             NaN           98%                    98%   \n",
       "\n",
       "     Discount_Percentage Selling_Price Original_Price Chat_Responce_Rate  \n",
       "0                    NaN       Rs. 300            NaN               100%  \n",
       "1                   -55%       Rs. 400        Rs. 895                86%  \n",
       "2                   -58%       Rs. 628      Rs. 1,500                97%  \n",
       "3                   -75%       Rs. 250        Rs. 999               100%  \n",
       "4                   -80%       Rs. 899      Rs. 4,499               100%  \n",
       "...                  ...           ...            ...                ...  \n",
       "4076                -78%       Rs. 445      Rs. 1,999               100%  \n",
       "4077                 NaN       Rs. 500            NaN               100%  \n",
       "4078                 -1%       Rs. 395        Rs. 399                99%  \n",
       "4079                -20%       Rs. 682        Rs. 850                93%  \n",
       "4080                -25%       Rs. 300        Rs. 400               100%  \n",
       "\n",
       "[4081 rows x 8 columns]"
      ]
     },
     "execution_count": 295,
     "metadata": {},
     "output_type": "execute_result"
    }
   ],
   "source": [
    "# As book title has not effect on output label so we drop this column\n",
    "df = df.drop('Title', axis=1)\n",
    "df"
   ]
  },
  {
   "cell_type": "code",
   "execution_count": 296,
   "metadata": {},
   "outputs": [
    {
     "data": {
      "text/html": [
       "<div>\n",
       "<style scoped>\n",
       "    .dataframe tbody tr th:only-of-type {\n",
       "        vertical-align: middle;\n",
       "    }\n",
       "\n",
       "    .dataframe tbody tr th {\n",
       "        vertical-align: top;\n",
       "    }\n",
       "\n",
       "    .dataframe thead th {\n",
       "        text-align: right;\n",
       "    }\n",
       "</style>\n",
       "<table border=\"1\" class=\"dataframe\">\n",
       "  <thead>\n",
       "    <tr style=\"text-align: right;\">\n",
       "      <th></th>\n",
       "      <th>People_Review</th>\n",
       "      <th>Deliver_Charges</th>\n",
       "      <th>Seller_Rating</th>\n",
       "      <th>Shipping_Timing_Rating</th>\n",
       "      <th>Discount_Percentage</th>\n",
       "      <th>Selling_Price</th>\n",
       "      <th>Original_Price</th>\n",
       "      <th>Chat_Responce_Rate</th>\n",
       "    </tr>\n",
       "  </thead>\n",
       "  <tbody>\n",
       "    <tr>\n",
       "      <th>0</th>\n",
       "      <td>100</td>\n",
       "      <td>NaN</td>\n",
       "      <td>98</td>\n",
       "      <td>97</td>\n",
       "      <td>NaN</td>\n",
       "      <td>300</td>\n",
       "      <td>NaN</td>\n",
       "      <td>100</td>\n",
       "    </tr>\n",
       "    <tr>\n",
       "      <th>1</th>\n",
       "      <td>61</td>\n",
       "      <td>NaN</td>\n",
       "      <td>82</td>\n",
       "      <td>100</td>\n",
       "      <td>55</td>\n",
       "      <td>400</td>\n",
       "      <td>895</td>\n",
       "      <td>86</td>\n",
       "    </tr>\n",
       "    <tr>\n",
       "      <th>2</th>\n",
       "      <td>113</td>\n",
       "      <td>99</td>\n",
       "      <td>80</td>\n",
       "      <td>100</td>\n",
       "      <td>58</td>\n",
       "      <td>628</td>\n",
       "      <td>1500</td>\n",
       "      <td>97</td>\n",
       "    </tr>\n",
       "    <tr>\n",
       "      <th>3</th>\n",
       "      <td>43</td>\n",
       "      <td>NaN</td>\n",
       "      <td>81</td>\n",
       "      <td>100</td>\n",
       "      <td>75</td>\n",
       "      <td>250</td>\n",
       "      <td>999</td>\n",
       "      <td>100</td>\n",
       "    </tr>\n",
       "    <tr>\n",
       "      <th>4</th>\n",
       "      <td>238</td>\n",
       "      <td>NaN</td>\n",
       "      <td>87</td>\n",
       "      <td>100</td>\n",
       "      <td>80</td>\n",
       "      <td>899</td>\n",
       "      <td>4499</td>\n",
       "      <td>100</td>\n",
       "    </tr>\n",
       "  </tbody>\n",
       "</table>\n",
       "</div>"
      ],
      "text/plain": [
       "  People_Review Deliver_Charges Seller_Rating Shipping_Timing_Rating  \\\n",
       "0          100              NaN            98                     97   \n",
       "1           61              NaN            82                    100   \n",
       "2          113               99            80                    100   \n",
       "3           43              NaN            81                    100   \n",
       "4          238              NaN            87                    100   \n",
       "\n",
       "  Discount_Percentage Selling_Price Original_Price Chat_Responce_Rate  \n",
       "0                 NaN           300            NaN                100  \n",
       "1                  55           400            895                 86  \n",
       "2                  58           628           1500                 97  \n",
       "3                  75           250            999                100  \n",
       "4                  80           899           4499                100  "
      ]
     },
     "execution_count": 296,
     "metadata": {},
     "output_type": "execute_result"
    }
   ],
   "source": [
    "# Removing digits and special characters from the digits values\n",
    "df['People_Review'] = df['People_Review'].str.replace(r'[a-zA-Z!@#$%^&*()_+={}\\[\\]:;\"\\'<>,.?/\\\\|`~]', '', regex=True)\n",
    "df['Selling_Price'] = df['Selling_Price'].str.replace(r'[a-zA-Z!@#$%^&*()_+={}\\[\\]:;\"\\'<>,.?/\\\\|`~]', '', regex=True)\n",
    "df['Seller_Rating'] = df['Seller_Rating'].str.replace(r'[a-zA-Z!@#$%^&*()_+={}\\[\\]:;\"\\'<>,.?/\\\\|`~]', '', regex=True)\n",
    "df['Shipping_Timing_Rating'] = df['Shipping_Timing_Rating'].str.replace(r'[a-zA-Z!@#$%^&*()_+={}\\[\\]:;\"\\'<>,.?/\\\\|`~]', '', regex=True)\n",
    "df['Chat_Responce_Rate'] = df['Chat_Responce_Rate'].str.replace(r'[a-zA-Z!@#$%^&*()_+={}\\[\\]:;\"\\'<>,.?/\\\\|`~]', '', regex=True)\n",
    "df['Deliver_Charges'] = df['Deliver_Charges'].str.replace(r'[a-zA-Z!@#$%^&*()_+={}\\[\\]:;\"\\'<>,.?/\\\\|`~]', '', regex=True)\n",
    "df['Discount_Percentage'] = df['Discount_Percentage'].str.replace(r'[a-zA-Z!@#$%^&*()_+={}\\-\\[\\]:;\"\\'<>,.?/\\\\|`~]', '', regex=True)\n",
    "df['Original_Price'] = df['Original_Price'].str.replace(r'[a-zA-Z!@#$%^&*()_+={}\\[\\]:;\"\\'<>,.?/\\\\|`~]', '', regex=True)\n",
    "df.head()"
   ]
  },
  {
   "cell_type": "markdown",
   "metadata": {},
   "source": [
    "## EDA"
   ]
  },
  {
   "cell_type": "code",
   "execution_count": 297,
   "metadata": {},
   "outputs": [
    {
     "name": "stdout",
     "output_type": "stream",
     "text": [
      "<class 'pandas.core.frame.DataFrame'>\n",
      "RangeIndex: 4081 entries, 0 to 4080\n",
      "Data columns (total 8 columns):\n",
      " #   Column                  Non-Null Count  Dtype \n",
      "---  ------                  --------------  ----- \n",
      " 0   People_Review           4081 non-null   object\n",
      " 1   Deliver_Charges         714 non-null    object\n",
      " 2   Seller_Rating           4081 non-null   object\n",
      " 3   Shipping_Timing_Rating  4081 non-null   object\n",
      " 4   Discount_Percentage     3763 non-null   object\n",
      " 5   Selling_Price           4081 non-null   object\n",
      " 6   Original_Price          3763 non-null   object\n",
      " 7   Chat_Responce_Rate      4080 non-null   object\n",
      "dtypes: object(8)\n",
      "memory usage: 255.2+ KB\n"
     ]
    }
   ],
   "source": [
    "df.info()"
   ]
  },
  {
   "cell_type": "code",
   "execution_count": 298,
   "metadata": {},
   "outputs": [
    {
     "data": {
      "text/html": [
       "<div>\n",
       "<style scoped>\n",
       "    .dataframe tbody tr th:only-of-type {\n",
       "        vertical-align: middle;\n",
       "    }\n",
       "\n",
       "    .dataframe tbody tr th {\n",
       "        vertical-align: top;\n",
       "    }\n",
       "\n",
       "    .dataframe thead th {\n",
       "        text-align: right;\n",
       "    }\n",
       "</style>\n",
       "<table border=\"1\" class=\"dataframe\">\n",
       "  <thead>\n",
       "    <tr style=\"text-align: right;\">\n",
       "      <th></th>\n",
       "      <th>People_Review</th>\n",
       "      <th>Deliver_Charges</th>\n",
       "      <th>Seller_Rating</th>\n",
       "      <th>Shipping_Timing_Rating</th>\n",
       "      <th>Discount_Percentage</th>\n",
       "      <th>Selling_Price</th>\n",
       "      <th>Original_Price</th>\n",
       "      <th>Chat_Responce_Rate</th>\n",
       "    </tr>\n",
       "  </thead>\n",
       "  <tbody>\n",
       "    <tr>\n",
       "      <th>count</th>\n",
       "      <td>4081</td>\n",
       "      <td>714</td>\n",
       "      <td>4081</td>\n",
       "      <td>4081</td>\n",
       "      <td>3763</td>\n",
       "      <td>4081</td>\n",
       "      <td>3763</td>\n",
       "      <td>4080</td>\n",
       "    </tr>\n",
       "    <tr>\n",
       "      <th>unique</th>\n",
       "      <td>146</td>\n",
       "      <td>10</td>\n",
       "      <td>27</td>\n",
       "      <td>24</td>\n",
       "      <td>83</td>\n",
       "      <td>407</td>\n",
       "      <td>164</td>\n",
       "      <td>30</td>\n",
       "    </tr>\n",
       "    <tr>\n",
       "      <th>top</th>\n",
       "      <td></td>\n",
       "      <td>99</td>\n",
       "      <td>87</td>\n",
       "      <td>100</td>\n",
       "      <td>1</td>\n",
       "      <td>299</td>\n",
       "      <td>1999</td>\n",
       "      <td>100</td>\n",
       "    </tr>\n",
       "    <tr>\n",
       "      <th>freq</th>\n",
       "      <td>1694</td>\n",
       "      <td>457</td>\n",
       "      <td>858</td>\n",
       "      <td>2812</td>\n",
       "      <td>327</td>\n",
       "      <td>221</td>\n",
       "      <td>560</td>\n",
       "      <td>2145</td>\n",
       "    </tr>\n",
       "  </tbody>\n",
       "</table>\n",
       "</div>"
      ],
      "text/plain": [
       "       People_Review Deliver_Charges Seller_Rating Shipping_Timing_Rating  \\\n",
       "count           4081             714          4081                   4081   \n",
       "unique           146              10            27                     24   \n",
       "top                               99            87                    100   \n",
       "freq            1694             457           858                   2812   \n",
       "\n",
       "       Discount_Percentage Selling_Price Original_Price Chat_Responce_Rate  \n",
       "count                 3763          4081           3763               4080  \n",
       "unique                  83           407            164                 30  \n",
       "top                      1           299           1999                100  \n",
       "freq                   327           221            560               2145  "
      ]
     },
     "execution_count": 298,
     "metadata": {},
     "output_type": "execute_result"
    }
   ],
   "source": [
    "df.describe()"
   ]
  },
  {
   "cell_type": "code",
   "execution_count": 299,
   "metadata": {},
   "outputs": [
    {
     "data": {
      "text/plain": [
       "People_Review                0\n",
       "Deliver_Charges           3367\n",
       "Seller_Rating                0\n",
       "Shipping_Timing_Rating       0\n",
       "Discount_Percentage        318\n",
       "Selling_Price                0\n",
       "Original_Price             318\n",
       "Chat_Responce_Rate           1\n",
       "dtype: int64"
      ]
     },
     "execution_count": 299,
     "metadata": {},
     "output_type": "execute_result"
    }
   ],
   "source": [
    "df.isna().sum()"
   ]
  },
  {
   "cell_type": "code",
   "execution_count": 300,
   "metadata": {},
   "outputs": [
    {
     "data": {
      "text/html": [
       "<div>\n",
       "<style scoped>\n",
       "    .dataframe tbody tr th:only-of-type {\n",
       "        vertical-align: middle;\n",
       "    }\n",
       "\n",
       "    .dataframe tbody tr th {\n",
       "        vertical-align: top;\n",
       "    }\n",
       "\n",
       "    .dataframe thead th {\n",
       "        text-align: right;\n",
       "    }\n",
       "</style>\n",
       "<table border=\"1\" class=\"dataframe\">\n",
       "  <thead>\n",
       "    <tr style=\"text-align: right;\">\n",
       "      <th></th>\n",
       "      <th>People_Review</th>\n",
       "      <th>Deliver_Charges</th>\n",
       "      <th>Seller_Rating</th>\n",
       "      <th>Shipping_Timing_Rating</th>\n",
       "      <th>Discount_Percentage</th>\n",
       "      <th>Selling_Price</th>\n",
       "      <th>Original_Price</th>\n",
       "      <th>Chat_Responce_Rate</th>\n",
       "    </tr>\n",
       "  </thead>\n",
       "  <tbody>\n",
       "    <tr>\n",
       "      <th>0</th>\n",
       "      <td>100</td>\n",
       "      <td>NaN</td>\n",
       "      <td>98</td>\n",
       "      <td>97</td>\n",
       "      <td>NaN</td>\n",
       "      <td>300</td>\n",
       "      <td>NaN</td>\n",
       "      <td>100</td>\n",
       "    </tr>\n",
       "    <tr>\n",
       "      <th>1</th>\n",
       "      <td>61</td>\n",
       "      <td>NaN</td>\n",
       "      <td>82</td>\n",
       "      <td>100</td>\n",
       "      <td>55</td>\n",
       "      <td>400</td>\n",
       "      <td>895</td>\n",
       "      <td>86</td>\n",
       "    </tr>\n",
       "    <tr>\n",
       "      <th>2</th>\n",
       "      <td>113</td>\n",
       "      <td>99</td>\n",
       "      <td>80</td>\n",
       "      <td>100</td>\n",
       "      <td>58</td>\n",
       "      <td>628</td>\n",
       "      <td>1500</td>\n",
       "      <td>97</td>\n",
       "    </tr>\n",
       "    <tr>\n",
       "      <th>3</th>\n",
       "      <td>43</td>\n",
       "      <td>NaN</td>\n",
       "      <td>81</td>\n",
       "      <td>100</td>\n",
       "      <td>75</td>\n",
       "      <td>250</td>\n",
       "      <td>999</td>\n",
       "      <td>100</td>\n",
       "    </tr>\n",
       "    <tr>\n",
       "      <th>4</th>\n",
       "      <td>238</td>\n",
       "      <td>NaN</td>\n",
       "      <td>87</td>\n",
       "      <td>100</td>\n",
       "      <td>80</td>\n",
       "      <td>899</td>\n",
       "      <td>4499</td>\n",
       "      <td>100</td>\n",
       "    </tr>\n",
       "  </tbody>\n",
       "</table>\n",
       "</div>"
      ],
      "text/plain": [
       "  People_Review Deliver_Charges Seller_Rating Shipping_Timing_Rating  \\\n",
       "0          100              NaN            98                     97   \n",
       "1           61              NaN            82                    100   \n",
       "2          113               99            80                    100   \n",
       "3           43              NaN            81                    100   \n",
       "4          238              NaN            87                    100   \n",
       "\n",
       "  Discount_Percentage Selling_Price Original_Price Chat_Responce_Rate  \n",
       "0                 NaN           300            NaN                100  \n",
       "1                  55           400            895                 86  \n",
       "2                  58           628           1500                 97  \n",
       "3                  75           250            999                100  \n",
       "4                  80           899           4499                100  "
      ]
     },
     "execution_count": 300,
     "metadata": {},
     "output_type": "execute_result"
    }
   ],
   "source": [
    "df.head()"
   ]
  },
  {
   "cell_type": "code",
   "execution_count": 301,
   "metadata": {},
   "outputs": [
    {
     "data": {
      "text/html": [
       "<div>\n",
       "<style scoped>\n",
       "    .dataframe tbody tr th:only-of-type {\n",
       "        vertical-align: middle;\n",
       "    }\n",
       "\n",
       "    .dataframe tbody tr th {\n",
       "        vertical-align: top;\n",
       "    }\n",
       "\n",
       "    .dataframe thead th {\n",
       "        text-align: right;\n",
       "    }\n",
       "</style>\n",
       "<table border=\"1\" class=\"dataframe\">\n",
       "  <thead>\n",
       "    <tr style=\"text-align: right;\">\n",
       "      <th></th>\n",
       "      <th>0</th>\n",
       "      <th>1</th>\n",
       "      <th>2</th>\n",
       "      <th>3</th>\n",
       "      <th>4</th>\n",
       "      <th>5</th>\n",
       "      <th>6</th>\n",
       "      <th>7</th>\n",
       "      <th>8</th>\n",
       "      <th>9</th>\n",
       "      <th>...</th>\n",
       "      <th>4071</th>\n",
       "      <th>4072</th>\n",
       "      <th>4073</th>\n",
       "      <th>4074</th>\n",
       "      <th>4075</th>\n",
       "      <th>4076</th>\n",
       "      <th>4077</th>\n",
       "      <th>4078</th>\n",
       "      <th>4079</th>\n",
       "      <th>4080</th>\n",
       "    </tr>\n",
       "  </thead>\n",
       "  <tbody>\n",
       "    <tr>\n",
       "      <th>People_Review</th>\n",
       "      <td>100</td>\n",
       "      <td>61</td>\n",
       "      <td>113</td>\n",
       "      <td>43</td>\n",
       "      <td>238</td>\n",
       "      <td>12</td>\n",
       "      <td>138</td>\n",
       "      <td>93</td>\n",
       "      <td>65</td>\n",
       "      <td>135</td>\n",
       "      <td>...</td>\n",
       "      <td>63</td>\n",
       "      <td>53</td>\n",
       "      <td>412</td>\n",
       "      <td>5</td>\n",
       "      <td>4</td>\n",
       "      <td>6</td>\n",
       "      <td>3</td>\n",
       "      <td>465</td>\n",
       "      <td>4</td>\n",
       "      <td></td>\n",
       "    </tr>\n",
       "    <tr>\n",
       "      <th>Deliver_Charges</th>\n",
       "      <td>NaN</td>\n",
       "      <td>NaN</td>\n",
       "      <td>99</td>\n",
       "      <td>NaN</td>\n",
       "      <td>NaN</td>\n",
       "      <td>NaN</td>\n",
       "      <td>99</td>\n",
       "      <td>99</td>\n",
       "      <td>99</td>\n",
       "      <td>NaN</td>\n",
       "      <td>...</td>\n",
       "      <td>NaN</td>\n",
       "      <td>NaN</td>\n",
       "      <td>119</td>\n",
       "      <td>NaN</td>\n",
       "      <td>99</td>\n",
       "      <td>NaN</td>\n",
       "      <td>NaN</td>\n",
       "      <td>NaN</td>\n",
       "      <td>NaN</td>\n",
       "      <td>NaN</td>\n",
       "    </tr>\n",
       "    <tr>\n",
       "      <th>Seller_Rating</th>\n",
       "      <td>98</td>\n",
       "      <td>82</td>\n",
       "      <td>80</td>\n",
       "      <td>81</td>\n",
       "      <td>87</td>\n",
       "      <td>88</td>\n",
       "      <td>89</td>\n",
       "      <td>91</td>\n",
       "      <td>89</td>\n",
       "      <td>87</td>\n",
       "      <td>...</td>\n",
       "      <td>98</td>\n",
       "      <td>98</td>\n",
       "      <td>96</td>\n",
       "      <td>98</td>\n",
       "      <td>89</td>\n",
       "      <td>87</td>\n",
       "      <td>98</td>\n",
       "      <td>89</td>\n",
       "      <td></td>\n",
       "      <td>98</td>\n",
       "    </tr>\n",
       "    <tr>\n",
       "      <th>Shipping_Timing_Rating</th>\n",
       "      <td>97</td>\n",
       "      <td>100</td>\n",
       "      <td>100</td>\n",
       "      <td>100</td>\n",
       "      <td>100</td>\n",
       "      <td>100</td>\n",
       "      <td>100</td>\n",
       "      <td>100</td>\n",
       "      <td>100</td>\n",
       "      <td>100</td>\n",
       "      <td>...</td>\n",
       "      <td>98</td>\n",
       "      <td>98</td>\n",
       "      <td>100</td>\n",
       "      <td>98</td>\n",
       "      <td>100</td>\n",
       "      <td>100</td>\n",
       "      <td>98</td>\n",
       "      <td>98</td>\n",
       "      <td>100</td>\n",
       "      <td>98</td>\n",
       "    </tr>\n",
       "    <tr>\n",
       "      <th>Discount_Percentage</th>\n",
       "      <td>NaN</td>\n",
       "      <td>55</td>\n",
       "      <td>58</td>\n",
       "      <td>75</td>\n",
       "      <td>80</td>\n",
       "      <td>NaN</td>\n",
       "      <td>11</td>\n",
       "      <td>17</td>\n",
       "      <td>35</td>\n",
       "      <td>81</td>\n",
       "      <td>...</td>\n",
       "      <td>23</td>\n",
       "      <td>NaN</td>\n",
       "      <td>1</td>\n",
       "      <td>NaN</td>\n",
       "      <td>73</td>\n",
       "      <td>78</td>\n",
       "      <td>NaN</td>\n",
       "      <td>1</td>\n",
       "      <td>20</td>\n",
       "      <td>25</td>\n",
       "    </tr>\n",
       "    <tr>\n",
       "      <th>Selling_Price</th>\n",
       "      <td>300</td>\n",
       "      <td>400</td>\n",
       "      <td>628</td>\n",
       "      <td>250</td>\n",
       "      <td>899</td>\n",
       "      <td>1045</td>\n",
       "      <td>979</td>\n",
       "      <td>499</td>\n",
       "      <td>587</td>\n",
       "      <td>329</td>\n",
       "      <td>...</td>\n",
       "      <td>880</td>\n",
       "      <td>400</td>\n",
       "      <td>593</td>\n",
       "      <td>400</td>\n",
       "      <td>1348</td>\n",
       "      <td>445</td>\n",
       "      <td>500</td>\n",
       "      <td>395</td>\n",
       "      <td>682</td>\n",
       "      <td>300</td>\n",
       "    </tr>\n",
       "    <tr>\n",
       "      <th>Original_Price</th>\n",
       "      <td>NaN</td>\n",
       "      <td>895</td>\n",
       "      <td>1500</td>\n",
       "      <td>999</td>\n",
       "      <td>4499</td>\n",
       "      <td>NaN</td>\n",
       "      <td>1099</td>\n",
       "      <td>599</td>\n",
       "      <td>899</td>\n",
       "      <td>1699</td>\n",
       "      <td>...</td>\n",
       "      <td>1150</td>\n",
       "      <td>NaN</td>\n",
       "      <td>599</td>\n",
       "      <td>NaN</td>\n",
       "      <td>5000</td>\n",
       "      <td>1999</td>\n",
       "      <td>NaN</td>\n",
       "      <td>399</td>\n",
       "      <td>850</td>\n",
       "      <td>400</td>\n",
       "    </tr>\n",
       "    <tr>\n",
       "      <th>Chat_Responce_Rate</th>\n",
       "      <td>100</td>\n",
       "      <td>86</td>\n",
       "      <td>97</td>\n",
       "      <td>100</td>\n",
       "      <td>100</td>\n",
       "      <td>88</td>\n",
       "      <td>98</td>\n",
       "      <td>91</td>\n",
       "      <td>98</td>\n",
       "      <td>100</td>\n",
       "      <td>...</td>\n",
       "      <td>100</td>\n",
       "      <td>100</td>\n",
       "      <td>68</td>\n",
       "      <td>100</td>\n",
       "      <td>87</td>\n",
       "      <td>100</td>\n",
       "      <td>100</td>\n",
       "      <td>99</td>\n",
       "      <td>93</td>\n",
       "      <td>100</td>\n",
       "    </tr>\n",
       "  </tbody>\n",
       "</table>\n",
       "<p>8 rows × 4081 columns</p>\n",
       "</div>"
      ],
      "text/plain": [
       "                        0     1      2     3      4      5      6     7     \\\n",
       "People_Review           100    61    113    43    238     12    138    93    \n",
       "Deliver_Charges          NaN   NaN     99   NaN    NaN    NaN     99    99   \n",
       "Seller_Rating             98    82     80    81     87     88     89    91   \n",
       "Shipping_Timing_Rating    97   100    100   100    100    100    100   100   \n",
       "Discount_Percentage      NaN    55     58    75     80    NaN     11    17   \n",
       "Selling_Price            300   400    628   250    899   1045    979   499   \n",
       "Original_Price           NaN   895   1500   999   4499    NaN   1099   599   \n",
       "Chat_Responce_Rate       100    86     97   100    100     88     98    91   \n",
       "\n",
       "                        8      9     ...   4071  4072  4073  4074   4075  \\\n",
       "People_Review            65    135   ...    63    53   412     5      4    \n",
       "Deliver_Charges           99    NaN  ...    NaN   NaN   119   NaN     99   \n",
       "Seller_Rating             89     87  ...     98    98    96    98     89   \n",
       "Shipping_Timing_Rating   100    100  ...     98    98   100    98    100   \n",
       "Discount_Percentage       35     81  ...     23   NaN     1   NaN     73   \n",
       "Selling_Price            587    329  ...    880   400   593   400   1348   \n",
       "Original_Price           899   1699  ...   1150   NaN   599   NaN   5000   \n",
       "Chat_Responce_Rate        98    100  ...    100   100    68   100     87   \n",
       "\n",
       "                         4076  4077  4078  4079  4080  \n",
       "People_Review              6     3   465     4         \n",
       "Deliver_Charges           NaN   NaN   NaN   NaN   NaN  \n",
       "Seller_Rating              87    98    89          98  \n",
       "Shipping_Timing_Rating    100    98    98   100    98  \n",
       "Discount_Percentage        78   NaN     1    20    25  \n",
       "Selling_Price             445   500   395   682   300  \n",
       "Original_Price           1999   NaN   399   850   400  \n",
       "Chat_Responce_Rate        100   100    99    93   100  \n",
       "\n",
       "[8 rows x 4081 columns]"
      ]
     },
     "execution_count": 301,
     "metadata": {},
     "output_type": "execute_result"
    }
   ],
   "source": [
    "# If origin price is zero its means original price is equal to the selling price, for doing this we make transpose\n",
    "df = df.transpose()\n",
    "df.head(30)"
   ]
  },
  {
   "cell_type": "code",
   "execution_count": 302,
   "metadata": {},
   "outputs": [
    {
     "data": {
      "text/html": [
       "<div>\n",
       "<style scoped>\n",
       "    .dataframe tbody tr th:only-of-type {\n",
       "        vertical-align: middle;\n",
       "    }\n",
       "\n",
       "    .dataframe tbody tr th {\n",
       "        vertical-align: top;\n",
       "    }\n",
       "\n",
       "    .dataframe thead th {\n",
       "        text-align: right;\n",
       "    }\n",
       "</style>\n",
       "<table border=\"1\" class=\"dataframe\">\n",
       "  <thead>\n",
       "    <tr style=\"text-align: right;\">\n",
       "      <th></th>\n",
       "      <th>0</th>\n",
       "      <th>1</th>\n",
       "      <th>2</th>\n",
       "      <th>3</th>\n",
       "      <th>4</th>\n",
       "      <th>5</th>\n",
       "      <th>6</th>\n",
       "      <th>7</th>\n",
       "      <th>8</th>\n",
       "      <th>9</th>\n",
       "      <th>...</th>\n",
       "      <th>4071</th>\n",
       "      <th>4072</th>\n",
       "      <th>4073</th>\n",
       "      <th>4074</th>\n",
       "      <th>4075</th>\n",
       "      <th>4076</th>\n",
       "      <th>4077</th>\n",
       "      <th>4078</th>\n",
       "      <th>4079</th>\n",
       "      <th>4080</th>\n",
       "    </tr>\n",
       "  </thead>\n",
       "  <tbody>\n",
       "    <tr>\n",
       "      <th>People_Review</th>\n",
       "      <td>100</td>\n",
       "      <td>61</td>\n",
       "      <td>113</td>\n",
       "      <td>43</td>\n",
       "      <td>238</td>\n",
       "      <td>12</td>\n",
       "      <td>138</td>\n",
       "      <td>93</td>\n",
       "      <td>65</td>\n",
       "      <td>135</td>\n",
       "      <td>...</td>\n",
       "      <td>63</td>\n",
       "      <td>53</td>\n",
       "      <td>412</td>\n",
       "      <td>5</td>\n",
       "      <td>4</td>\n",
       "      <td>6</td>\n",
       "      <td>3</td>\n",
       "      <td>465</td>\n",
       "      <td>4</td>\n",
       "      <td></td>\n",
       "    </tr>\n",
       "    <tr>\n",
       "      <th>Deliver_Charges</th>\n",
       "      <td>NaN</td>\n",
       "      <td>NaN</td>\n",
       "      <td>99</td>\n",
       "      <td>NaN</td>\n",
       "      <td>NaN</td>\n",
       "      <td>NaN</td>\n",
       "      <td>99</td>\n",
       "      <td>99</td>\n",
       "      <td>99</td>\n",
       "      <td>NaN</td>\n",
       "      <td>...</td>\n",
       "      <td>NaN</td>\n",
       "      <td>NaN</td>\n",
       "      <td>119</td>\n",
       "      <td>NaN</td>\n",
       "      <td>99</td>\n",
       "      <td>NaN</td>\n",
       "      <td>NaN</td>\n",
       "      <td>NaN</td>\n",
       "      <td>NaN</td>\n",
       "      <td>NaN</td>\n",
       "    </tr>\n",
       "    <tr>\n",
       "      <th>Seller_Rating</th>\n",
       "      <td>98</td>\n",
       "      <td>82</td>\n",
       "      <td>80</td>\n",
       "      <td>81</td>\n",
       "      <td>87</td>\n",
       "      <td>88</td>\n",
       "      <td>89</td>\n",
       "      <td>91</td>\n",
       "      <td>89</td>\n",
       "      <td>87</td>\n",
       "      <td>...</td>\n",
       "      <td>98</td>\n",
       "      <td>98</td>\n",
       "      <td>96</td>\n",
       "      <td>98</td>\n",
       "      <td>89</td>\n",
       "      <td>87</td>\n",
       "      <td>98</td>\n",
       "      <td>89</td>\n",
       "      <td></td>\n",
       "      <td>98</td>\n",
       "    </tr>\n",
       "    <tr>\n",
       "      <th>Shipping_Timing_Rating</th>\n",
       "      <td>97</td>\n",
       "      <td>100</td>\n",
       "      <td>100</td>\n",
       "      <td>100</td>\n",
       "      <td>100</td>\n",
       "      <td>100</td>\n",
       "      <td>100</td>\n",
       "      <td>100</td>\n",
       "      <td>100</td>\n",
       "      <td>100</td>\n",
       "      <td>...</td>\n",
       "      <td>98</td>\n",
       "      <td>98</td>\n",
       "      <td>100</td>\n",
       "      <td>98</td>\n",
       "      <td>100</td>\n",
       "      <td>100</td>\n",
       "      <td>98</td>\n",
       "      <td>98</td>\n",
       "      <td>100</td>\n",
       "      <td>98</td>\n",
       "    </tr>\n",
       "    <tr>\n",
       "      <th>Discount_Percentage</th>\n",
       "      <td>NaN</td>\n",
       "      <td>55</td>\n",
       "      <td>58</td>\n",
       "      <td>75</td>\n",
       "      <td>80</td>\n",
       "      <td>NaN</td>\n",
       "      <td>11</td>\n",
       "      <td>17</td>\n",
       "      <td>35</td>\n",
       "      <td>81</td>\n",
       "      <td>...</td>\n",
       "      <td>23</td>\n",
       "      <td>NaN</td>\n",
       "      <td>1</td>\n",
       "      <td>NaN</td>\n",
       "      <td>73</td>\n",
       "      <td>78</td>\n",
       "      <td>NaN</td>\n",
       "      <td>1</td>\n",
       "      <td>20</td>\n",
       "      <td>25</td>\n",
       "    </tr>\n",
       "    <tr>\n",
       "      <th>Selling_Price</th>\n",
       "      <td>300</td>\n",
       "      <td>400</td>\n",
       "      <td>628</td>\n",
       "      <td>250</td>\n",
       "      <td>899</td>\n",
       "      <td>1045</td>\n",
       "      <td>979</td>\n",
       "      <td>499</td>\n",
       "      <td>587</td>\n",
       "      <td>329</td>\n",
       "      <td>...</td>\n",
       "      <td>880</td>\n",
       "      <td>400</td>\n",
       "      <td>593</td>\n",
       "      <td>400</td>\n",
       "      <td>1348</td>\n",
       "      <td>445</td>\n",
       "      <td>500</td>\n",
       "      <td>395</td>\n",
       "      <td>682</td>\n",
       "      <td>300</td>\n",
       "    </tr>\n",
       "    <tr>\n",
       "      <th>Original_Price</th>\n",
       "      <td>300</td>\n",
       "      <td>895</td>\n",
       "      <td>1500</td>\n",
       "      <td>999</td>\n",
       "      <td>4499</td>\n",
       "      <td>1045</td>\n",
       "      <td>1099</td>\n",
       "      <td>599</td>\n",
       "      <td>899</td>\n",
       "      <td>1699</td>\n",
       "      <td>...</td>\n",
       "      <td>1150</td>\n",
       "      <td>400</td>\n",
       "      <td>599</td>\n",
       "      <td>400</td>\n",
       "      <td>5000</td>\n",
       "      <td>1999</td>\n",
       "      <td>500</td>\n",
       "      <td>399</td>\n",
       "      <td>850</td>\n",
       "      <td>400</td>\n",
       "    </tr>\n",
       "    <tr>\n",
       "      <th>Chat_Responce_Rate</th>\n",
       "      <td>100</td>\n",
       "      <td>86</td>\n",
       "      <td>97</td>\n",
       "      <td>100</td>\n",
       "      <td>100</td>\n",
       "      <td>88</td>\n",
       "      <td>98</td>\n",
       "      <td>91</td>\n",
       "      <td>98</td>\n",
       "      <td>100</td>\n",
       "      <td>...</td>\n",
       "      <td>100</td>\n",
       "      <td>100</td>\n",
       "      <td>68</td>\n",
       "      <td>100</td>\n",
       "      <td>87</td>\n",
       "      <td>100</td>\n",
       "      <td>100</td>\n",
       "      <td>99</td>\n",
       "      <td>93</td>\n",
       "      <td>100</td>\n",
       "    </tr>\n",
       "  </tbody>\n",
       "</table>\n",
       "<p>8 rows × 4081 columns</p>\n",
       "</div>"
      ],
      "text/plain": [
       "                        0     1      2     3      4      5      6     7     \\\n",
       "People_Review           100    61    113    43    238     12    138    93    \n",
       "Deliver_Charges          NaN   NaN     99   NaN    NaN    NaN     99    99   \n",
       "Seller_Rating             98    82     80    81     87     88     89    91   \n",
       "Shipping_Timing_Rating    97   100    100   100    100    100    100   100   \n",
       "Discount_Percentage      NaN    55     58    75     80    NaN     11    17   \n",
       "Selling_Price            300   400    628   250    899   1045    979   499   \n",
       "Original_Price           300   895   1500   999   4499   1045   1099   599   \n",
       "Chat_Responce_Rate       100    86     97   100    100     88     98    91   \n",
       "\n",
       "                        8      9     ...   4071  4072  4073  4074   4075  \\\n",
       "People_Review            65    135   ...    63    53   412     5      4    \n",
       "Deliver_Charges           99    NaN  ...    NaN   NaN   119   NaN     99   \n",
       "Seller_Rating             89     87  ...     98    98    96    98     89   \n",
       "Shipping_Timing_Rating   100    100  ...     98    98   100    98    100   \n",
       "Discount_Percentage       35     81  ...     23   NaN     1   NaN     73   \n",
       "Selling_Price            587    329  ...    880   400   593   400   1348   \n",
       "Original_Price           899   1699  ...   1150   400   599   400   5000   \n",
       "Chat_Responce_Rate        98    100  ...    100   100    68   100     87   \n",
       "\n",
       "                         4076  4077  4078  4079  4080  \n",
       "People_Review              6     3   465     4         \n",
       "Deliver_Charges           NaN   NaN   NaN   NaN   NaN  \n",
       "Seller_Rating              87    98    89          98  \n",
       "Shipping_Timing_Rating    100    98    98   100    98  \n",
       "Discount_Percentage        78   NaN     1    20    25  \n",
       "Selling_Price             445   500   395   682   300  \n",
       "Original_Price           1999   500   399   850   400  \n",
       "Chat_Responce_Rate        100   100    99    93   100  \n",
       "\n",
       "[8 rows x 4081 columns]"
      ]
     },
     "execution_count": 302,
     "metadata": {},
     "output_type": "execute_result"
    }
   ],
   "source": [
    "# Use a conditional statement to replace NaN values in the selected row (Original Price) with values from the row above (Selling Price)\n",
    "df.iloc[6] = df.iloc[6].where(df.iloc[6].notna(), df.iloc[5])\n",
    "df.head(30)"
   ]
  },
  {
   "cell_type": "code",
   "execution_count": 306,
   "metadata": {},
   "outputs": [
    {
     "data": {
      "text/html": [
       "<div>\n",
       "<style scoped>\n",
       "    .dataframe tbody tr th:only-of-type {\n",
       "        vertical-align: middle;\n",
       "    }\n",
       "\n",
       "    .dataframe tbody tr th {\n",
       "        vertical-align: top;\n",
       "    }\n",
       "\n",
       "    .dataframe thead th {\n",
       "        text-align: right;\n",
       "    }\n",
       "</style>\n",
       "<table border=\"1\" class=\"dataframe\">\n",
       "  <thead>\n",
       "    <tr style=\"text-align: right;\">\n",
       "      <th></th>\n",
       "      <th>People_Review</th>\n",
       "      <th>Deliver_Charges</th>\n",
       "      <th>Seller_Rating</th>\n",
       "      <th>Shipping_Timing_Rating</th>\n",
       "      <th>Discount_Percentage</th>\n",
       "      <th>Selling_Price</th>\n",
       "      <th>Original_Price</th>\n",
       "      <th>Chat_Responce_Rate</th>\n",
       "    </tr>\n",
       "  </thead>\n",
       "  <tbody>\n",
       "    <tr>\n",
       "      <th>0</th>\n",
       "      <td>100</td>\n",
       "      <td>NaN</td>\n",
       "      <td>98</td>\n",
       "      <td>97</td>\n",
       "      <td>NaN</td>\n",
       "      <td>300</td>\n",
       "      <td>300</td>\n",
       "      <td>100</td>\n",
       "    </tr>\n",
       "    <tr>\n",
       "      <th>1</th>\n",
       "      <td>61</td>\n",
       "      <td>NaN</td>\n",
       "      <td>82</td>\n",
       "      <td>100</td>\n",
       "      <td>55</td>\n",
       "      <td>400</td>\n",
       "      <td>895</td>\n",
       "      <td>86</td>\n",
       "    </tr>\n",
       "    <tr>\n",
       "      <th>2</th>\n",
       "      <td>113</td>\n",
       "      <td>99</td>\n",
       "      <td>80</td>\n",
       "      <td>100</td>\n",
       "      <td>58</td>\n",
       "      <td>628</td>\n",
       "      <td>1500</td>\n",
       "      <td>97</td>\n",
       "    </tr>\n",
       "    <tr>\n",
       "      <th>3</th>\n",
       "      <td>43</td>\n",
       "      <td>NaN</td>\n",
       "      <td>81</td>\n",
       "      <td>100</td>\n",
       "      <td>75</td>\n",
       "      <td>250</td>\n",
       "      <td>999</td>\n",
       "      <td>100</td>\n",
       "    </tr>\n",
       "    <tr>\n",
       "      <th>4</th>\n",
       "      <td>238</td>\n",
       "      <td>NaN</td>\n",
       "      <td>87</td>\n",
       "      <td>100</td>\n",
       "      <td>80</td>\n",
       "      <td>899</td>\n",
       "      <td>4499</td>\n",
       "      <td>100</td>\n",
       "    </tr>\n",
       "  </tbody>\n",
       "</table>\n",
       "</div>"
      ],
      "text/plain": [
       "  People_Review Deliver_Charges Seller_Rating Shipping_Timing_Rating  \\\n",
       "0          100              NaN            98                     97   \n",
       "1           61              NaN            82                    100   \n",
       "2          113               99            80                    100   \n",
       "3           43              NaN            81                    100   \n",
       "4          238              NaN            87                    100   \n",
       "\n",
       "  Discount_Percentage Selling_Price Original_Price Chat_Responce_Rate  \n",
       "0                 NaN           300            300                100  \n",
       "1                  55           400            895                 86  \n",
       "2                  58           628           1500                 97  \n",
       "3                  75           250            999                100  \n",
       "4                  80           899           4499                100  "
      ]
     },
     "execution_count": 306,
     "metadata": {},
     "output_type": "execute_result"
    }
   ],
   "source": [
    "# To change it in the original shape\n",
    "df = df.transpose()\n",
    "df.head()"
   ]
  },
  {
   "cell_type": "code",
   "execution_count": 307,
   "metadata": {},
   "outputs": [],
   "source": [
    "# Replace '' spaces with NaN values\n",
    "df['People_Review'] = df['People_Review'].replace('', np.nan)\n",
    "df['Deliver_Charges'] = df['Deliver_Charges'].replace('', np.nan)\n",
    "df['Seller_Rating'] = df['Seller_Rating'].replace('', np.nan)\n",
    "df['Original_Price'] = df['Original_Price'].replace('', np.nan)\n",
    "df['Shipping_Timing_Rating'] = df['Shipping_Timing_Rating'].replace('', np.nan)\n",
    "df['Discount_Percentage'] = df['Discount_Percentage'].replace('', np.nan)\n",
    "df['Original_Price'] = df['Original_Price'].replace('', np.nan)\n",
    "df['Chat_Responce_Rate'] = df['Chat_Responce_Rate'].replace('', np.nan)\n",
    "df['Selling_Price'] = df['Selling_Price'].replace('', np.nan)\n",
    "\n",
    "# Replace ' ' spaces with NaN values\n",
    "df['People_Review'] = df['People_Review'].replace(' ', np.nan)\n",
    "df['Deliver_Charges'] = df['Deliver_Charges'].replace(' ', np.nan)\n",
    "df['Seller_Rating'] = df['Seller_Rating'].replace(' ', np.nan)\n",
    "df['Original_Price'] = df['Original_Price'].replace(' ', np.nan)\n",
    "df['Shipping_Timing_Rating'] = df['Shipping_Timing_Rating'].replace(' ', np.nan)\n",
    "df['Discount_Percentage'] = df['Discount_Percentage'].replace(' ', np.nan)\n",
    "df['Original_Price'] = df['Original_Price'].replace(' ', np.nan)\n",
    "df['Chat_Responce_Rate'] = df['Chat_Responce_Rate'].replace(' ', np.nan)\n",
    "df['Selling_Price'] = df['Selling_Price'].replace(' ', np.nan)\n",
    "\n",
    "# Replace '  ' spaces with NaN values\n",
    "df['People_Review'] = df['People_Review'].replace('  ', np.nan)\n",
    "df['Deliver_Charges'] = df['Deliver_Charges'].replace('  ', np.nan)\n",
    "df['Seller_Rating'] = df['Seller_Rating'].replace('  ', np.nan)\n",
    "df['Original_Price'] = df['Original_Price'].replace('  ', np.nan)\n",
    "df['Shipping_Timing_Rating'] = df['Shipping_Timing_Rating'].replace('  ', np.nan)\n",
    "df['Discount_Percentage'] = df['Discount_Percentage'].replace('  ', np.nan)\n",
    "df['Original_Price'] = df['Original_Price'].replace('  ', np.nan)\n",
    "df['Chat_Responce_Rate'] = df['Chat_Responce_Rate'].replace('  ', np.nan)\n",
    "df['Selling_Price'] = df['Selling_Price'].replace('  ', np.nan)"
   ]
  },
  {
   "cell_type": "code",
   "execution_count": 308,
   "metadata": {},
   "outputs": [],
   "source": [
    "# To change data type to int, first we all NaN values to 0\n",
    "df = df.fillna(value=0)"
   ]
  },
  {
   "cell_type": "code",
   "execution_count": 309,
   "metadata": {},
   "outputs": [],
   "source": [
    "# Convert data type to int\n",
    "df['People_Review'] = df['People_Review'].astype(float).astype(int) \n",
    "df['Deliver_Charges'] = df['Deliver_Charges'].astype(float).astype(int) \n",
    "df['Seller_Rating'] = df['Seller_Rating'].astype(float).astype(int) \n",
    "df['Shipping_Timing_Rating'] = df['Shipping_Timing_Rating'].astype(float).astype(int) \n",
    "df['Discount_Percentage'] = df['Discount_Percentage'].astype(float).astype(int) \n",
    "df['Original_Price'] = df['Original_Price'].astype(float).astype(int) \n",
    "df['Chat_Responce_Rate'] = df['Chat_Responce_Rate'].astype(float).astype(int) \n",
    "df['Selling_Price'] = df['Selling_Price'].astype(float).astype(int) "
   ]
  },
  {
   "cell_type": "code",
   "execution_count": 310,
   "metadata": {},
   "outputs": [
    {
     "name": "stdout",
     "output_type": "stream",
     "text": [
      "<class 'pandas.core.frame.DataFrame'>\n",
      "RangeIndex: 4081 entries, 0 to 4080\n",
      "Data columns (total 8 columns):\n",
      " #   Column                  Non-Null Count  Dtype\n",
      "---  ------                  --------------  -----\n",
      " 0   People_Review           4081 non-null   int32\n",
      " 1   Deliver_Charges         4081 non-null   int32\n",
      " 2   Seller_Rating           4081 non-null   int32\n",
      " 3   Shipping_Timing_Rating  4081 non-null   int32\n",
      " 4   Discount_Percentage     4081 non-null   int32\n",
      " 5   Selling_Price           4081 non-null   int32\n",
      " 6   Original_Price          4081 non-null   int32\n",
      " 7   Chat_Responce_Rate      4081 non-null   int32\n",
      "dtypes: int32(8)\n",
      "memory usage: 127.7 KB\n"
     ]
    }
   ],
   "source": [
    "df.info()"
   ]
  },
  {
   "cell_type": "code",
   "execution_count": 311,
   "metadata": {},
   "outputs": [],
   "source": [
    "# Replace spaces with NaN values\n",
    "df['People_Review'] = df['People_Review'].replace(0, np.nan)\n",
    "df['Deliver_Charges'] = df['Deliver_Charges'].replace(0, np.nan)\n",
    "df['Seller_Rating'] = df['Seller_Rating'].replace(0, np.nan)\n",
    "df['Original_Price'] = df['Original_Price'].replace(0, np.nan)\n",
    "df['Shipping_Timing_Rating'] = df['Shipping_Timing_Rating'].replace(0, np.nan)\n",
    "df['Discount_Percentage'] = df['Discount_Percentage'].replace(0, np.nan)\n",
    "df['Original_Price'] = df['Original_Price'].replace(0, np.nan)\n",
    "df['Chat_Responce_Rate'] = df['Chat_Responce_Rate'].replace(0, np.nan)\n",
    "df['Selling_Price'] = df['Selling_Price'].replace(0, np.nan)"
   ]
  },
  {
   "cell_type": "code",
   "execution_count": 312,
   "metadata": {},
   "outputs": [
    {
     "name": "stdout",
     "output_type": "stream",
     "text": [
      "<class 'pandas.core.frame.DataFrame'>\n",
      "RangeIndex: 4081 entries, 0 to 4080\n",
      "Data columns (total 8 columns):\n",
      " #   Column                  Non-Null Count  Dtype  \n",
      "---  ------                  --------------  -----  \n",
      " 0   People_Review           2386 non-null   float64\n",
      " 1   Deliver_Charges         677 non-null    float64\n",
      " 2   Seller_Rating           3803 non-null   float64\n",
      " 3   Shipping_Timing_Rating  4045 non-null   float64\n",
      " 4   Discount_Percentage     3762 non-null   float64\n",
      " 5   Selling_Price           4044 non-null   float64\n",
      " 6   Original_Price          4045 non-null   float64\n",
      " 7   Chat_Responce_Rate      4034 non-null   float64\n",
      "dtypes: float64(8)\n",
      "memory usage: 255.2 KB\n"
     ]
    }
   ],
   "source": [
    "df.info()"
   ]
  },
  {
   "cell_type": "code",
   "execution_count": 313,
   "metadata": {},
   "outputs": [
    {
     "data": {
      "text/html": [
       "<div>\n",
       "<style scoped>\n",
       "    .dataframe tbody tr th:only-of-type {\n",
       "        vertical-align: middle;\n",
       "    }\n",
       "\n",
       "    .dataframe tbody tr th {\n",
       "        vertical-align: top;\n",
       "    }\n",
       "\n",
       "    .dataframe thead th {\n",
       "        text-align: right;\n",
       "    }\n",
       "</style>\n",
       "<table border=\"1\" class=\"dataframe\">\n",
       "  <thead>\n",
       "    <tr style=\"text-align: right;\">\n",
       "      <th></th>\n",
       "      <th>People_Review</th>\n",
       "      <th>Deliver_Charges</th>\n",
       "      <th>Seller_Rating</th>\n",
       "      <th>Shipping_Timing_Rating</th>\n",
       "      <th>Discount_Percentage</th>\n",
       "      <th>Selling_Price</th>\n",
       "      <th>Original_Price</th>\n",
       "      <th>Chat_Responce_Rate</th>\n",
       "    </tr>\n",
       "  </thead>\n",
       "  <tbody>\n",
       "    <tr>\n",
       "      <th>0</th>\n",
       "      <td>100.0</td>\n",
       "      <td>NaN</td>\n",
       "      <td>98.0</td>\n",
       "      <td>97.0</td>\n",
       "      <td>NaN</td>\n",
       "      <td>300.0</td>\n",
       "      <td>300.0</td>\n",
       "      <td>100.0</td>\n",
       "    </tr>\n",
       "    <tr>\n",
       "      <th>1</th>\n",
       "      <td>61.0</td>\n",
       "      <td>NaN</td>\n",
       "      <td>82.0</td>\n",
       "      <td>100.0</td>\n",
       "      <td>55.0</td>\n",
       "      <td>400.0</td>\n",
       "      <td>895.0</td>\n",
       "      <td>86.0</td>\n",
       "    </tr>\n",
       "    <tr>\n",
       "      <th>2</th>\n",
       "      <td>113.0</td>\n",
       "      <td>99.0</td>\n",
       "      <td>80.0</td>\n",
       "      <td>100.0</td>\n",
       "      <td>58.0</td>\n",
       "      <td>628.0</td>\n",
       "      <td>1500.0</td>\n",
       "      <td>97.0</td>\n",
       "    </tr>\n",
       "    <tr>\n",
       "      <th>3</th>\n",
       "      <td>43.0</td>\n",
       "      <td>NaN</td>\n",
       "      <td>81.0</td>\n",
       "      <td>100.0</td>\n",
       "      <td>75.0</td>\n",
       "      <td>250.0</td>\n",
       "      <td>999.0</td>\n",
       "      <td>100.0</td>\n",
       "    </tr>\n",
       "    <tr>\n",
       "      <th>4</th>\n",
       "      <td>238.0</td>\n",
       "      <td>NaN</td>\n",
       "      <td>87.0</td>\n",
       "      <td>100.0</td>\n",
       "      <td>80.0</td>\n",
       "      <td>899.0</td>\n",
       "      <td>4499.0</td>\n",
       "      <td>100.0</td>\n",
       "    </tr>\n",
       "  </tbody>\n",
       "</table>\n",
       "</div>"
      ],
      "text/plain": [
       "   People_Review  Deliver_Charges  Seller_Rating  Shipping_Timing_Rating  \\\n",
       "0          100.0              NaN           98.0                    97.0   \n",
       "1           61.0              NaN           82.0                   100.0   \n",
       "2          113.0             99.0           80.0                   100.0   \n",
       "3           43.0              NaN           81.0                   100.0   \n",
       "4          238.0              NaN           87.0                   100.0   \n",
       "\n",
       "   Discount_Percentage  Selling_Price  Original_Price  Chat_Responce_Rate  \n",
       "0                  NaN          300.0           300.0               100.0  \n",
       "1                 55.0          400.0           895.0                86.0  \n",
       "2                 58.0          628.0          1500.0                97.0  \n",
       "3                 75.0          250.0           999.0               100.0  \n",
       "4                 80.0          899.0          4499.0               100.0  "
      ]
     },
     "execution_count": 313,
     "metadata": {},
     "output_type": "execute_result"
    }
   ],
   "source": [
    "df.head()"
   ]
  },
  {
   "cell_type": "code",
   "execution_count": 314,
   "metadata": {},
   "outputs": [],
   "source": [
    "# Drop all the rows where output label Selling_Price is zer\n",
    "df = df.dropna(subset=['Selling_Price'])"
   ]
  },
  {
   "cell_type": "markdown",
   "metadata": {},
   "source": [
    "## Train Test Split"
   ]
  },
  {
   "cell_type": "code",
   "execution_count": 373,
   "metadata": {},
   "outputs": [
    {
     "data": {
      "text/plain": [
       "(3235, 3235, 809, 809)"
      ]
     },
     "execution_count": 373,
     "metadata": {},
     "output_type": "execute_result"
    }
   ],
   "source": [
    "y = df['Selling_Price']\n",
    "X = df.drop('Selling_Price', axis=1)\n",
    "X_train, X_test, y_train, y_test = train_test_split(X, y, test_size=0.2, random_state=54)\n",
    "len(X_train), len(y_train), len(X_test), len(y_test)"
   ]
  },
  {
   "cell_type": "code",
   "execution_count": 374,
   "metadata": {},
   "outputs": [
    {
     "data": {
      "text/html": [
       "<div>\n",
       "<style scoped>\n",
       "    .dataframe tbody tr th:only-of-type {\n",
       "        vertical-align: middle;\n",
       "    }\n",
       "\n",
       "    .dataframe tbody tr th {\n",
       "        vertical-align: top;\n",
       "    }\n",
       "\n",
       "    .dataframe thead th {\n",
       "        text-align: right;\n",
       "    }\n",
       "</style>\n",
       "<table border=\"1\" class=\"dataframe\">\n",
       "  <thead>\n",
       "    <tr style=\"text-align: right;\">\n",
       "      <th></th>\n",
       "      <th>People_Review</th>\n",
       "      <th>Deliver_Charges</th>\n",
       "      <th>Seller_Rating</th>\n",
       "      <th>Shipping_Timing_Rating</th>\n",
       "      <th>Discount_Percentage</th>\n",
       "      <th>Original_Price</th>\n",
       "      <th>Chat_Responce_Rate</th>\n",
       "    </tr>\n",
       "  </thead>\n",
       "  <tbody>\n",
       "    <tr>\n",
       "      <th>2156</th>\n",
       "      <td>NaN</td>\n",
       "      <td>NaN</td>\n",
       "      <td>82.0</td>\n",
       "      <td>100.0</td>\n",
       "      <td>65.0</td>\n",
       "      <td>999.0</td>\n",
       "      <td>91.0</td>\n",
       "    </tr>\n",
       "    <tr>\n",
       "      <th>3590</th>\n",
       "      <td>NaN</td>\n",
       "      <td>NaN</td>\n",
       "      <td>86.0</td>\n",
       "      <td>100.0</td>\n",
       "      <td>77.0</td>\n",
       "      <td>1999.0</td>\n",
       "      <td>100.0</td>\n",
       "    </tr>\n",
       "    <tr>\n",
       "      <th>2112</th>\n",
       "      <td>7.0</td>\n",
       "      <td>NaN</td>\n",
       "      <td>87.0</td>\n",
       "      <td>100.0</td>\n",
       "      <td>67.0</td>\n",
       "      <td>995.0</td>\n",
       "      <td>100.0</td>\n",
       "    </tr>\n",
       "    <tr>\n",
       "      <th>92</th>\n",
       "      <td>145.0</td>\n",
       "      <td>NaN</td>\n",
       "      <td>98.0</td>\n",
       "      <td>97.0</td>\n",
       "      <td>1.0</td>\n",
       "      <td>600.0</td>\n",
       "      <td>100.0</td>\n",
       "    </tr>\n",
       "    <tr>\n",
       "      <th>2227</th>\n",
       "      <td>NaN</td>\n",
       "      <td>99.0</td>\n",
       "      <td>74.0</td>\n",
       "      <td>93.0</td>\n",
       "      <td>59.0</td>\n",
       "      <td>600.0</td>\n",
       "      <td>97.0</td>\n",
       "    </tr>\n",
       "    <tr>\n",
       "      <th>3158</th>\n",
       "      <td>NaN</td>\n",
       "      <td>NaN</td>\n",
       "      <td>NaN</td>\n",
       "      <td>100.0</td>\n",
       "      <td>8.0</td>\n",
       "      <td>325.0</td>\n",
       "      <td>100.0</td>\n",
       "    </tr>\n",
       "    <tr>\n",
       "      <th>1115</th>\n",
       "      <td>2.0</td>\n",
       "      <td>NaN</td>\n",
       "      <td>87.0</td>\n",
       "      <td>100.0</td>\n",
       "      <td>79.0</td>\n",
       "      <td>1999.0</td>\n",
       "      <td>100.0</td>\n",
       "    </tr>\n",
       "    <tr>\n",
       "      <th>1513</th>\n",
       "      <td>8.0</td>\n",
       "      <td>NaN</td>\n",
       "      <td>93.0</td>\n",
       "      <td>95.0</td>\n",
       "      <td>1.0</td>\n",
       "      <td>500.0</td>\n",
       "      <td>97.0</td>\n",
       "    </tr>\n",
       "    <tr>\n",
       "      <th>2752</th>\n",
       "      <td>NaN</td>\n",
       "      <td>99.0</td>\n",
       "      <td>80.0</td>\n",
       "      <td>100.0</td>\n",
       "      <td>38.0</td>\n",
       "      <td>1599.0</td>\n",
       "      <td>97.0</td>\n",
       "    </tr>\n",
       "    <tr>\n",
       "      <th>24</th>\n",
       "      <td>13.0</td>\n",
       "      <td>NaN</td>\n",
       "      <td>98.0</td>\n",
       "      <td>97.0</td>\n",
       "      <td>26.0</td>\n",
       "      <td>600.0</td>\n",
       "      <td>100.0</td>\n",
       "    </tr>\n",
       "  </tbody>\n",
       "</table>\n",
       "</div>"
      ],
      "text/plain": [
       "      People_Review  Deliver_Charges  Seller_Rating  Shipping_Timing_Rating  \\\n",
       "2156            NaN              NaN           82.0                   100.0   \n",
       "3590            NaN              NaN           86.0                   100.0   \n",
       "2112            7.0              NaN           87.0                   100.0   \n",
       "92            145.0              NaN           98.0                    97.0   \n",
       "2227            NaN             99.0           74.0                    93.0   \n",
       "3158            NaN              NaN            NaN                   100.0   \n",
       "1115            2.0              NaN           87.0                   100.0   \n",
       "1513            8.0              NaN           93.0                    95.0   \n",
       "2752            NaN             99.0           80.0                   100.0   \n",
       "24             13.0              NaN           98.0                    97.0   \n",
       "\n",
       "      Discount_Percentage  Original_Price  Chat_Responce_Rate  \n",
       "2156                 65.0           999.0                91.0  \n",
       "3590                 77.0          1999.0               100.0  \n",
       "2112                 67.0           995.0               100.0  \n",
       "92                    1.0           600.0               100.0  \n",
       "2227                 59.0           600.0                97.0  \n",
       "3158                  8.0           325.0               100.0  \n",
       "1115                 79.0          1999.0               100.0  \n",
       "1513                  1.0           500.0                97.0  \n",
       "2752                 38.0          1599.0                97.0  \n",
       "24                   26.0           600.0               100.0  "
      ]
     },
     "execution_count": 374,
     "metadata": {},
     "output_type": "execute_result"
    }
   ],
   "source": [
    "X_train.head(10)"
   ]
  },
  {
   "cell_type": "code",
   "execution_count": 375,
   "metadata": {},
   "outputs": [
    {
     "name": "stdout",
     "output_type": "stream",
     "text": [
      "<class 'pandas.core.frame.DataFrame'>\n",
      "Int64Index: 3235 entries, 2156 to 3199\n",
      "Data columns (total 7 columns):\n",
      " #   Column                  Non-Null Count  Dtype  \n",
      "---  ------                  --------------  -----  \n",
      " 0   People_Review           1920 non-null   float64\n",
      " 1   Deliver_Charges         544 non-null    float64\n",
      " 2   Seller_Rating           3036 non-null   float64\n",
      " 3   Shipping_Timing_Rating  3235 non-null   float64\n",
      " 4   Discount_Percentage     2999 non-null   float64\n",
      " 5   Original_Price          3235 non-null   float64\n",
      " 6   Chat_Responce_Rate      3226 non-null   float64\n",
      "dtypes: float64(7)\n",
      "memory usage: 202.2 KB\n"
     ]
    }
   ],
   "source": [
    "X_train.info()"
   ]
  },
  {
   "cell_type": "markdown",
   "metadata": {},
   "source": [
    "## Handling Outliers"
   ]
  },
  {
   "cell_type": "code",
   "execution_count": 376,
   "metadata": {},
   "outputs": [
    {
     "data": {
      "text/plain": [
       "<Axes: xlabel='People_Review', ylabel='Count'>"
      ]
     },
     "execution_count": 376,
     "metadata": {},
     "output_type": "execute_result"
    },
    {
     "data": {
      "image/png": "[encoded data removed]",
      "text/plain": [
       "<Figure size 640x480 with 1 Axes>"
      ]
     },
     "metadata": {},
     "output_type": "display_data"
    }
   ],
   "source": [
    "sns.histplot(x = 'People_Review', data = X_train)"
   ]
  },
  {
   "cell_type": "code",
   "execution_count": 377,
   "metadata": {},
   "outputs": [
    {
     "data": {
      "text/plain": [
       "<Axes: >"
      ]
     },
     "execution_count": 377,
     "metadata": {},
     "output_type": "execute_result"
    },
    {
     "data": {
      "image/png": "[encoded data removed]",
      "text/plain": [
       "<Figure size 640x480 with 1 Axes>"
      ]
     },
     "metadata": {},
     "output_type": "display_data"
    }
   ],
   "source": [
    "sns.boxplot(X_train['People_Review'])"
   ]
  },
  {
   "cell_type": "code",
   "execution_count": 378,
   "metadata": {},
   "outputs": [],
   "source": [
    "q1 = df['People_Review'].quantile(.25)\n",
    "q3 = df['People_Review'].quantile(.75)\n",
    "iqr = q3 - q1\n",
    "lower_limit = q1 - iqr * 1.5\n",
    "upper_limit = q3 + iqr * 1.5\n",
    "X_train = X_train.copy()\n",
    "X_train['People_Review'] = np.where(X_train['People_Review'] < lower_limit, lower_limit, (np.where(X_train['People_Review'] > upper_limit, upper_limit, X_train['People_Review'])))"
   ]
  },
  {
   "cell_type": "code",
   "execution_count": 379,
   "metadata": {},
   "outputs": [
    {
     "data": {
      "text/plain": [
       "<Axes: xlabel='People_Review', ylabel='Count'>"
      ]
     },
     "execution_count": 379,
     "metadata": {},
     "output_type": "execute_result"
    },
    {
     "data": {
      "image/png": "[encoded data removed]",
      "text/plain": [
       "<Figure size 640x480 with 1 Axes>"
      ]
     },
     "metadata": {},
     "output_type": "display_data"
    }
   ],
   "source": [
    "sns.histplot(x = 'People_Review', data = X_train)"
   ]
  },
  {
   "cell_type": "code",
   "execution_count": 380,
   "metadata": {},
   "outputs": [
    {
     "data": {
      "text/plain": [
       "<Axes: >"
      ]
     },
     "execution_count": 380,
     "metadata": {},
     "output_type": "execute_result"
    },
    {
     "data": {
      "image/png": "[encoded data removed]",
      "text/plain": [
       "<Figure size 640x480 with 1 Axes>"
      ]
     },
     "metadata": {},
     "output_type": "display_data"
    }
   ],
   "source": [
    "sns.boxplot(X_train['People_Review'])"
   ]
  },
  {
   "cell_type": "code",
   "execution_count": 381,
   "metadata": {},
   "outputs": [
    {
     "data": {
      "text/plain": [
       "<Axes: xlabel='Deliver_Charges', ylabel='Count'>"
      ]
     },
     "execution_count": 381,
     "metadata": {},
     "output_type": "execute_result"
    },
    {
     "data": {
      "image/png": "[encoded data removed]",
      "text/plain": [
       "<Figure size 640x480 with 1 Axes>"
      ]
     },
     "metadata": {},
     "output_type": "display_data"
    }
   ],
   "source": [
    "sns.histplot(x = 'Deliver_Charges', data = X_train)"
   ]
  },
  {
   "cell_type": "code",
   "execution_count": 382,
   "metadata": {},
   "outputs": [
    {
     "data": {
      "text/plain": [
       "<Axes: >"
      ]
     },
     "execution_count": 382,
     "metadata": {},
     "output_type": "execute_result"
    },
    {
     "data": {
      "image/png": "[encoded data removed]",
      "text/plain": [
       "<Figure size 640x480 with 1 Axes>"
      ]
     },
     "metadata": {},
     "output_type": "display_data"
    }
   ],
   "source": [
    "sns.boxplot(X_train['Deliver_Charges'])"
   ]
  },
  {
   "cell_type": "code",
   "execution_count": 383,
   "metadata": {},
   "outputs": [],
   "source": [
    "q1 = df['Deliver_Charges'].quantile(.25)\n",
    "q3 = df['Deliver_Charges'].quantile(.75)\n",
    "iqr = q3 - q1\n",
    "lower_limit = q1 - iqr * 1.5\n",
    "upper_limit = q3 + iqr * 1.5\n",
    "X_train = X_train.copy()\n",
    "X_train['Deliver_Charges'] = np.where(X_train['Deliver_Charges'] < lower_limit, lower_limit, (np.where(X_train['Deliver_Charges'] > upper_limit, upper_limit, X_train['Deliver_Charges'])))"
   ]
  },
  {
   "cell_type": "code",
   "execution_count": 384,
   "metadata": {},
   "outputs": [
    {
     "data": {
      "text/plain": [
       "<Axes: xlabel='Deliver_Charges', ylabel='Count'>"
      ]
     },
     "execution_count": 384,
     "metadata": {},
     "output_type": "execute_result"
    },
    {
     "data": {
      "image/png": "[encoded data removed]",
      "text/plain": [
       "<Figure size 640x480 with 1 Axes>"
      ]
     },
     "metadata": {},
     "output_type": "display_data"
    }
   ],
   "source": [
    "sns.histplot(x = 'Deliver_Charges', data = X_train)"
   ]
  },
  {
   "cell_type": "code",
   "execution_count": 385,
   "metadata": {},
   "outputs": [
    {
     "data": {
      "text/plain": [
       "<Axes: >"
      ]
     },
     "execution_count": 385,
     "metadata": {},
     "output_type": "execute_result"
    },
    {
     "data": {
      "image/png": "[encoded data removed]",
      "text/plain": [
       "<Figure size 640x480 with 1 Axes>"
      ]
     },
     "metadata": {},
     "output_type": "display_data"
    }
   ],
   "source": [
    "sns.boxplot(X_train['Deliver_Charges'])"
   ]
  },
  {
   "cell_type": "code",
   "execution_count": 386,
   "metadata": {},
   "outputs": [
    {
     "data": {
      "text/plain": [
       "<Axes: xlabel='Seller_Rating', ylabel='Count'>"
      ]
     },
     "execution_count": 386,
     "metadata": {},
     "output_type": "execute_result"
    },
    {
     "data": {
      "image/png": "[encoded data removed]",
      "text/plain": [
       "<Figure size 640x480 with 1 Axes>"
      ]
     },
     "metadata": {},
     "output_type": "display_data"
    }
   ],
   "source": [
    "sns.histplot(x = 'Seller_Rating', data = X_train)"
   ]
  },
  {
   "cell_type": "code",
   "execution_count": 387,
   "metadata": {},
   "outputs": [],
   "source": [
    "q1 = df['Seller_Rating'].quantile(.25)\n",
    "q3 = df['Seller_Rating'].quantile(.75)\n",
    "iqr = q3 - q1\n",
    "lower_limit = q1 - iqr * 1.5\n",
    "upper_limit = q3 + iqr * 1.5\n",
    "X_train = X_train.copy()\n",
    "X_train['Seller_Rating'] = np.where(X_train['Seller_Rating'] < lower_limit, lower_limit, (np.where(X_train['Seller_Rating'] > upper_limit, upper_limit, X_train['Seller_Rating'])))"
   ]
  },
  {
   "cell_type": "code",
   "execution_count": 388,
   "metadata": {},
   "outputs": [
    {
     "data": {
      "text/plain": [
       "<Axes: xlabel='Seller_Rating', ylabel='Count'>"
      ]
     },
     "execution_count": 388,
     "metadata": {},
     "output_type": "execute_result"
    },
    {
     "data": {
      "image/png": "[encoded data removed]",
      "text/plain": [
       "<Figure size 640x480 with 1 Axes>"
      ]
     },
     "metadata": {},
     "output_type": "display_data"
    }
   ],
   "source": [
    "sns.histplot(x = 'Seller_Rating', data = X_train)"
   ]
  },
  {
   "cell_type": "code",
   "execution_count": 389,
   "metadata": {},
   "outputs": [
    {
     "data": {
      "text/plain": [
       "<Axes: xlabel='Shipping_Timing_Rating', ylabel='Count'>"
      ]
     },
     "execution_count": 389,
     "metadata": {},
     "output_type": "execute_result"
    },
    {
     "data": {
      "image/png": "[encoded data removed]",
      "text/plain": [
       "<Figure size 640x480 with 1 Axes>"
      ]
     },
     "metadata": {},
     "output_type": "display_data"
    }
   ],
   "source": [
    "sns.histplot(x = 'Shipping_Timing_Rating', data = X_train)"
   ]
  },
  {
   "cell_type": "code",
   "execution_count": 390,
   "metadata": {},
   "outputs": [],
   "source": [
    "q1 = df['Shipping_Timing_Rating'].quantile(.25)\n",
    "q3 = df['Shipping_Timing_Rating'].quantile(.75)\n",
    "iqr = q3 - q1\n",
    "lower_limit = q1 - iqr * 1.5\n",
    "upper_limit = q3 + iqr * 1.5\n",
    "X_train = X_train.copy()\n",
    "X_train['Shipping_Timing_Rating'] = np.where(X_train['Shipping_Timing_Rating'] < lower_limit, lower_limit, (np.where(X_train['Shipping_Timing_Rating'] > upper_limit, upper_limit, X_train['Shipping_Timing_Rating'])))"
   ]
  },
  {
   "cell_type": "code",
   "execution_count": 391,
   "metadata": {},
   "outputs": [
    {
     "data": {
      "text/plain": [
       "<Axes: xlabel='Shipping_Timing_Rating', ylabel='Count'>"
      ]
     },
     "execution_count": 391,
     "metadata": {},
     "output_type": "execute_result"
    },
    {
     "data": {
      "image/png": "[encoded data removed]",
      "text/plain": [
       "<Figure size 640x480 with 1 Axes>"
      ]
     },
     "metadata": {},
     "output_type": "display_data"
    }
   ],
   "source": [
    "sns.histplot(x = 'Shipping_Timing_Rating', data = X_train)"
   ]
  },
  {
   "cell_type": "code",
   "execution_count": 392,
   "metadata": {},
   "outputs": [
    {
     "data": {
      "text/plain": [
       "<Axes: xlabel='Discount_Percentage', ylabel='Count'>"
      ]
     },
     "execution_count": 392,
     "metadata": {},
     "output_type": "execute_result"
    },
    {
     "data": {
      "image/png": "[encoded data removed]",
      "text/plain": [
       "<Figure size 640x480 with 1 Axes>"
      ]
     },
     "metadata": {},
     "output_type": "display_data"
    }
   ],
   "source": [
    "sns.histplot(x = 'Discount_Percentage', data = X_train)"
   ]
  },
  {
   "cell_type": "code",
   "execution_count": 393,
   "metadata": {},
   "outputs": [
    {
     "data": {
      "text/plain": [
       "<Axes: >"
      ]
     },
     "execution_count": 393,
     "metadata": {},
     "output_type": "execute_result"
    },
    {
     "data": {
      "image/png": "[encoded data removed]",
      "text/plain": [
       "<Figure size 640x480 with 1 Axes>"
      ]
     },
     "metadata": {},
     "output_type": "display_data"
    }
   ],
   "source": [
    "sns.boxplot(X_train['Discount_Percentage'])\n",
    "# This coulmn does not have outliers"
   ]
  },
  {
   "cell_type": "code",
   "execution_count": 394,
   "metadata": {},
   "outputs": [
    {
     "data": {
      "text/plain": [
       "<Axes: xlabel='Original_Price', ylabel='Count'>"
      ]
     },
     "execution_count": 394,
     "metadata": {},
     "output_type": "execute_result"
    },
    {
     "data": {
      "image/png": "[encoded data removed]",
      "text/plain": [
       "<Figure size 640x480 with 1 Axes>"
      ]
     },
     "metadata": {},
     "output_type": "display_data"
    }
   ],
   "source": [
    "sns.histplot(x = 'Original_Price', data = X_train)"
   ]
  },
  {
   "cell_type": "code",
   "execution_count": 395,
   "metadata": {},
   "outputs": [],
   "source": [
    "q1 = df['Original_Price'].quantile(.25)\n",
    "q3 = df['Original_Price'].quantile(.75)\n",
    "iqr = q3 - q1\n",
    "lower_limit = q1 - iqr * 1.5\n",
    "upper_limit = q3 + iqr * 1.5\n",
    "X_train = X_train.copy()\n",
    "X_train['Original_Price'] = np.where(X_train['Original_Price'] < lower_limit, lower_limit, (np.where(X_train['Original_Price'] > upper_limit, upper_limit, X_train['Original_Price'])))"
   ]
  },
  {
   "cell_type": "code",
   "execution_count": 396,
   "metadata": {},
   "outputs": [
    {
     "data": {
      "text/plain": [
       "<Axes: xlabel='Original_Price', ylabel='Count'>"
      ]
     },
     "execution_count": 396,
     "metadata": {},
     "output_type": "execute_result"
    },
    {
     "data": {
      "image/png": "[encoded data removed]",
      "text/plain": [
       "<Figure size 640x480 with 1 Axes>"
      ]
     },
     "metadata": {},
     "output_type": "display_data"
    }
   ],
   "source": [
    "sns.histplot(x = 'Original_Price', data = X_train)"
   ]
  },
  {
   "cell_type": "code",
   "execution_count": 397,
   "metadata": {},
   "outputs": [
    {
     "data": {
      "text/plain": [
       "<Axes: xlabel='Chat_Responce_Rate', ylabel='Count'>"
      ]
     },
     "execution_count": 397,
     "metadata": {},
     "output_type": "execute_result"
    },
    {
     "data": {
      "image/png": "[encoded data removed]",
      "text/plain": [
       "<Figure size 640x480 with 1 Axes>"
      ]
     },
     "metadata": {},
     "output_type": "display_data"
    }
   ],
   "source": [
    "sns.histplot(x = 'Chat_Responce_Rate', data = X_train)"
   ]
  },
  {
   "cell_type": "code",
   "execution_count": 398,
   "metadata": {},
   "outputs": [],
   "source": [
    "q1 = df['Chat_Responce_Rate'].quantile(.25)\n",
    "q3 = df['Chat_Responce_Rate'].quantile(.75)\n",
    "iqr = q3 - q1\n",
    "lower_limit = q1 - iqr * 1.5\n",
    "upper_limit = q3 + iqr * 1.5\n",
    "X_train = X_train.copy()\n",
    "X_train['Chat_Responce_Rate'] = np.where(X_train['Chat_Responce_Rate'] < lower_limit, lower_limit, (np.where(X_train['Chat_Responce_Rate'] > upper_limit, upper_limit, X_train['Chat_Responce_Rate'])))"
   ]
  },
  {
   "cell_type": "code",
   "execution_count": 399,
   "metadata": {},
   "outputs": [
    {
     "data": {
      "text/plain": [
       "<Axes: xlabel='Chat_Responce_Rate', ylabel='Count'>"
      ]
     },
     "execution_count": 399,
     "metadata": {},
     "output_type": "execute_result"
    },
    {
     "data": {
      "image/png": "[encoded data removed]",
      "text/plain": [
       "<Figure size 640x480 with 1 Axes>"
      ]
     },
     "metadata": {},
     "output_type": "display_data"
    }
   ],
   "source": [
    "sns.histplot(x = 'Chat_Responce_Rate', data = X_train)"
   ]
  },
  {
   "cell_type": "code",
   "execution_count": 400,
   "metadata": {},
   "outputs": [
    {
     "data": {
      "text/html": [
       "<div>\n",
       "<style scoped>\n",
       "    .dataframe tbody tr th:only-of-type {\n",
       "        vertical-align: middle;\n",
       "    }\n",
       "\n",
       "    .dataframe tbody tr th {\n",
       "        vertical-align: top;\n",
       "    }\n",
       "\n",
       "    .dataframe thead th {\n",
       "        text-align: right;\n",
       "    }\n",
       "</style>\n",
       "<table border=\"1\" class=\"dataframe\">\n",
       "  <thead>\n",
       "    <tr style=\"text-align: right;\">\n",
       "      <th></th>\n",
       "      <th>People_Review</th>\n",
       "      <th>Deliver_Charges</th>\n",
       "      <th>Seller_Rating</th>\n",
       "      <th>Shipping_Timing_Rating</th>\n",
       "      <th>Discount_Percentage</th>\n",
       "      <th>Original_Price</th>\n",
       "      <th>Chat_Responce_Rate</th>\n",
       "    </tr>\n",
       "  </thead>\n",
       "  <tbody>\n",
       "    <tr>\n",
       "      <th>count</th>\n",
       "      <td>1920.000000</td>\n",
       "      <td>544.000000</td>\n",
       "      <td>3036.000000</td>\n",
       "      <td>3235.000000</td>\n",
       "      <td>2999.000000</td>\n",
       "      <td>3235.000000</td>\n",
       "      <td>3226.000000</td>\n",
       "    </tr>\n",
       "    <tr>\n",
       "      <th>mean</th>\n",
       "      <td>16.397917</td>\n",
       "      <td>110.507353</td>\n",
       "      <td>86.232213</td>\n",
       "      <td>98.810819</td>\n",
       "      <td>52.853284</td>\n",
       "      <td>1282.307573</td>\n",
       "      <td>97.821606</td>\n",
       "    </tr>\n",
       "    <tr>\n",
       "      <th>std</th>\n",
       "      <td>19.449886</td>\n",
       "      <td>18.275766</td>\n",
       "      <td>5.677183</td>\n",
       "      <td>1.959723</td>\n",
       "      <td>25.296398</td>\n",
       "      <td>832.759635</td>\n",
       "      <td>2.915135</td>\n",
       "    </tr>\n",
       "    <tr>\n",
       "      <th>min</th>\n",
       "      <td>1.000000</td>\n",
       "      <td>99.000000</td>\n",
       "      <td>69.000000</td>\n",
       "      <td>95.000000</td>\n",
       "      <td>1.000000</td>\n",
       "      <td>75.000000</td>\n",
       "      <td>92.500000</td>\n",
       "    </tr>\n",
       "    <tr>\n",
       "      <th>25%</th>\n",
       "      <td>2.000000</td>\n",
       "      <td>99.000000</td>\n",
       "      <td>81.000000</td>\n",
       "      <td>98.000000</td>\n",
       "      <td>37.000000</td>\n",
       "      <td>600.000000</td>\n",
       "      <td>97.000000</td>\n",
       "    </tr>\n",
       "    <tr>\n",
       "      <th>50%</th>\n",
       "      <td>7.000000</td>\n",
       "      <td>99.000000</td>\n",
       "      <td>87.000000</td>\n",
       "      <td>100.000000</td>\n",
       "      <td>60.000000</td>\n",
       "      <td>999.000000</td>\n",
       "      <td>100.000000</td>\n",
       "    </tr>\n",
       "    <tr>\n",
       "      <th>75%</th>\n",
       "      <td>25.000000</td>\n",
       "      <td>119.000000</td>\n",
       "      <td>89.000000</td>\n",
       "      <td>100.000000</td>\n",
       "      <td>75.000000</td>\n",
       "      <td>1799.000000</td>\n",
       "      <td>100.000000</td>\n",
       "    </tr>\n",
       "    <tr>\n",
       "      <th>max</th>\n",
       "      <td>57.000000</td>\n",
       "      <td>149.000000</td>\n",
       "      <td>100.000000</td>\n",
       "      <td>100.000000</td>\n",
       "      <td>85.000000</td>\n",
       "      <td>3600.000000</td>\n",
       "      <td>100.000000</td>\n",
       "    </tr>\n",
       "  </tbody>\n",
       "</table>\n",
       "</div>"
      ],
      "text/plain": [
       "       People_Review  Deliver_Charges  Seller_Rating  Shipping_Timing_Rating  \\\n",
       "count    1920.000000       544.000000    3036.000000             3235.000000   \n",
       "mean       16.397917       110.507353      86.232213               98.810819   \n",
       "std        19.449886        18.275766       5.677183                1.959723   \n",
       "min         1.000000        99.000000      69.000000               95.000000   \n",
       "25%         2.000000        99.000000      81.000000               98.000000   \n",
       "50%         7.000000        99.000000      87.000000              100.000000   \n",
       "75%        25.000000       119.000000      89.000000              100.000000   \n",
       "max        57.000000       149.000000     100.000000              100.000000   \n",
       "\n",
       "       Discount_Percentage  Original_Price  Chat_Responce_Rate  \n",
       "count          2999.000000     3235.000000         3226.000000  \n",
       "mean             52.853284     1282.307573           97.821606  \n",
       "std              25.296398      832.759635            2.915135  \n",
       "min               1.000000       75.000000           92.500000  \n",
       "25%              37.000000      600.000000           97.000000  \n",
       "50%              60.000000      999.000000          100.000000  \n",
       "75%              75.000000     1799.000000          100.000000  \n",
       "max              85.000000     3600.000000          100.000000  "
      ]
     },
     "execution_count": 400,
     "metadata": {},
     "output_type": "execute_result"
    }
   ],
   "source": [
    "X_train.describe()"
   ]
  },
  {
   "cell_type": "code",
   "execution_count": 401,
   "metadata": {},
   "outputs": [
    {
     "data": {
      "text/plain": [
       "<Axes: xlabel='Chat_Responce_Rate', ylabel='Selling_Price'>"
      ]
     },
     "execution_count": 401,
     "metadata": {},
     "output_type": "execute_result"
    },
    {
     "data": {
      "image/png": "[encoded data removed]",
      "text/plain": [
       "<Figure size 640x480 with 1 Axes>"
      ]
     },
     "metadata": {},
     "output_type": "display_data"
    }
   ],
   "source": [
    "# To find collerations between the 'Chat_Responce_Rate' feature and output label\n",
    "sns.scatterplot(x=X_train[\"Chat_Responce_Rate\"],\n",
    "                    y=y_train,\n",
    "                )\n",
    "# This scatterplot shows that there is no linear relationship between 'Chat_Responce_Rate' feature and output label, so we have to drop this column"
   ]
  },
  {
   "cell_type": "code",
   "execution_count": 402,
   "metadata": {},
   "outputs": [
    {
     "data": {
      "text/plain": [
       "<Axes: xlabel='Original_Price', ylabel='Selling_Price'>"
      ]
     },
     "execution_count": 402,
     "metadata": {},
     "output_type": "execute_result"
    },
    {
     "data": {
      "image/png": "[encoded data removed]",
      "text/plain": [
       "<Figure size 640x480 with 1 Axes>"
      ]
     },
     "metadata": {},
     "output_type": "display_data"
    }
   ],
   "source": [
    "# To find collerations between the 'Original_Price' feature and output label\n",
    "sns.scatterplot(x=X_train[\"Original_Price\"],\n",
    "                    y=y_train,\n",
    "                )\n",
    "# This scatterplot shows that there is linear relationship between 'Original_Price' feature and output label"
   ]
  },
  {
   "cell_type": "code",
   "execution_count": 403,
   "metadata": {},
   "outputs": [
    {
     "data": {
      "text/plain": [
       "<Axes: xlabel='Discount_Percentage', ylabel='Selling_Price'>"
      ]
     },
     "execution_count": 403,
     "metadata": {},
     "output_type": "execute_result"
    },
    {
     "data": {
      "image/png": "[encoded data removed]",
      "text/plain": [
       "<Figure size 640x480 with 1 Axes>"
      ]
     },
     "metadata": {},
     "output_type": "display_data"
    }
   ],
   "source": [
    "# To find collerations between the 'Discount_Percentage' feature and output label\n",
    "sns.scatterplot(x=X_train[\"Discount_Percentage\"],\n",
    "                    y=y_train,\n",
    "                )\n",
    "# This scatterplot shows that there is no linear relationship between 'Discount_Percentage' feature and output label, so we have to drop this column"
   ]
  },
  {
   "cell_type": "code",
   "execution_count": 404,
   "metadata": {},
   "outputs": [
    {
     "data": {
      "text/plain": [
       "<Axes: xlabel='Shipping_Timing_Rating', ylabel='Selling_Price'>"
      ]
     },
     "execution_count": 404,
     "metadata": {},
     "output_type": "execute_result"
    },
    {
     "data": {
      "image/png": "[encoded data removed]",
      "text/plain": [
       "<Figure size 640x480 with 1 Axes>"
      ]
     },
     "metadata": {},
     "output_type": "display_data"
    }
   ],
   "source": [
    "# To find collerations between the 'Shipping_Timing_Rating' feature and output label\n",
    "sns.scatterplot(x=X_train[\"Shipping_Timing_Rating\"],\n",
    "                    y=y_train,\n",
    "                )\n",
    "# This scatterplot shows that there is no linear relationship between 'Shipping_Timing_Rating' feature and output label, so we have to drop this column"
   ]
  },
  {
   "cell_type": "code",
   "execution_count": 405,
   "metadata": {},
   "outputs": [
    {
     "data": {
      "text/plain": [
       "<Axes: xlabel='Seller_Rating', ylabel='Selling_Price'>"
      ]
     },
     "execution_count": 405,
     "metadata": {},
     "output_type": "execute_result"
    },
    {
     "data": {
      "image/png": "[encoded data removed]",
      "text/plain": [
       "<Figure size 640x480 with 1 Axes>"
      ]
     },
     "metadata": {},
     "output_type": "display_data"
    }
   ],
   "source": [
    "# To find collerations between the 'Seller_Rating' feature and output label\n",
    "sns.scatterplot(x=X_train[\"Seller_Rating\"],\n",
    "                    y=y_train,\n",
    "                )\n",
    "# This scatterplot shows that there is no linear relationship between 'Seller_Rating' feature and output label, so we have to drop this column"
   ]
  },
  {
   "cell_type": "code",
   "execution_count": 406,
   "metadata": {},
   "outputs": [
    {
     "data": {
      "text/plain": [
       "<Axes: xlabel='Deliver_Charges', ylabel='Selling_Price'>"
      ]
     },
     "execution_count": 406,
     "metadata": {},
     "output_type": "execute_result"
    },
    {
     "data": {
      "image/png": "[encoded data removed]",
      "text/plain": [
       "<Figure size 640x480 with 1 Axes>"
      ]
     },
     "metadata": {},
     "output_type": "display_data"
    }
   ],
   "source": [
    "# To find collerations between the 'Deliver_Charges' feature and output label\n",
    "sns.scatterplot(x=X_train[\"Deliver_Charges\"],\n",
    "                    y=y_train,\n",
    "                )\n",
    "# This scatterplot shows that there is relationship between 'Deliver_Charges' feature and output label"
   ]
  },
  {
   "cell_type": "code",
   "execution_count": 407,
   "metadata": {},
   "outputs": [
    {
     "data": {
      "text/plain": [
       "<Axes: xlabel='People_Review', ylabel='Selling_Price'>"
      ]
     },
     "execution_count": 407,
     "metadata": {},
     "output_type": "execute_result"
    },
    {
     "data": {
      "image/png": "[encoded data removed]",
      "text/plain": [
       "<Figure size 640x480 with 1 Axes>"
      ]
     },
     "metadata": {},
     "output_type": "display_data"
    }
   ],
   "source": [
    "# To find collerations between the 'People_Review' feature and output label\n",
    "sns.scatterplot(x=X_train[\"People_Review\"],\n",
    "                    y=y_train,\n",
    "                )\n",
    "# This scatterplot shows that there is no linear relationship between 'People_Review' feature and output label, so we have to drop this column"
   ]
  },
  {
   "cell_type": "code",
   "execution_count": 408,
   "metadata": {},
   "outputs": [
    {
     "data": {
      "text/html": [
       "<div>\n",
       "<style scoped>\n",
       "    .dataframe tbody tr th:only-of-type {\n",
       "        vertical-align: middle;\n",
       "    }\n",
       "\n",
       "    .dataframe tbody tr th {\n",
       "        vertical-align: top;\n",
       "    }\n",
       "\n",
       "    .dataframe thead th {\n",
       "        text-align: right;\n",
       "    }\n",
       "</style>\n",
       "<table border=\"1\" class=\"dataframe\">\n",
       "  <thead>\n",
       "    <tr style=\"text-align: right;\">\n",
       "      <th></th>\n",
       "      <th>People_Review</th>\n",
       "      <th>Deliver_Charges</th>\n",
       "      <th>Seller_Rating</th>\n",
       "      <th>Shipping_Timing_Rating</th>\n",
       "      <th>Discount_Percentage</th>\n",
       "      <th>Original_Price</th>\n",
       "      <th>Chat_Responce_Rate</th>\n",
       "    </tr>\n",
       "  </thead>\n",
       "  <tbody>\n",
       "    <tr>\n",
       "      <th>2156</th>\n",
       "      <td>NaN</td>\n",
       "      <td>NaN</td>\n",
       "      <td>82.0</td>\n",
       "      <td>100.0</td>\n",
       "      <td>65.0</td>\n",
       "      <td>999.0</td>\n",
       "      <td>92.5</td>\n",
       "    </tr>\n",
       "    <tr>\n",
       "      <th>3590</th>\n",
       "      <td>NaN</td>\n",
       "      <td>NaN</td>\n",
       "      <td>86.0</td>\n",
       "      <td>100.0</td>\n",
       "      <td>77.0</td>\n",
       "      <td>1999.0</td>\n",
       "      <td>100.0</td>\n",
       "    </tr>\n",
       "    <tr>\n",
       "      <th>2112</th>\n",
       "      <td>7.0</td>\n",
       "      <td>NaN</td>\n",
       "      <td>87.0</td>\n",
       "      <td>100.0</td>\n",
       "      <td>67.0</td>\n",
       "      <td>995.0</td>\n",
       "      <td>100.0</td>\n",
       "    </tr>\n",
       "    <tr>\n",
       "      <th>92</th>\n",
       "      <td>57.0</td>\n",
       "      <td>NaN</td>\n",
       "      <td>98.0</td>\n",
       "      <td>97.0</td>\n",
       "      <td>1.0</td>\n",
       "      <td>600.0</td>\n",
       "      <td>100.0</td>\n",
       "    </tr>\n",
       "    <tr>\n",
       "      <th>2227</th>\n",
       "      <td>NaN</td>\n",
       "      <td>99.0</td>\n",
       "      <td>74.0</td>\n",
       "      <td>95.0</td>\n",
       "      <td>59.0</td>\n",
       "      <td>600.0</td>\n",
       "      <td>97.0</td>\n",
       "    </tr>\n",
       "  </tbody>\n",
       "</table>\n",
       "</div>"
      ],
      "text/plain": [
       "      People_Review  Deliver_Charges  Seller_Rating  Shipping_Timing_Rating  \\\n",
       "2156            NaN              NaN           82.0                   100.0   \n",
       "3590            NaN              NaN           86.0                   100.0   \n",
       "2112            7.0              NaN           87.0                   100.0   \n",
       "92             57.0              NaN           98.0                    97.0   \n",
       "2227            NaN             99.0           74.0                    95.0   \n",
       "\n",
       "      Discount_Percentage  Original_Price  Chat_Responce_Rate  \n",
       "2156                 65.0           999.0                92.5  \n",
       "3590                 77.0          1999.0               100.0  \n",
       "2112                 67.0           995.0               100.0  \n",
       "92                    1.0           600.0               100.0  \n",
       "2227                 59.0           600.0                97.0  "
      ]
     },
     "execution_count": 408,
     "metadata": {},
     "output_type": "execute_result"
    }
   ],
   "source": [
    "X_train.head()"
   ]
  },
  {
   "cell_type": "code",
   "execution_count": 409,
   "metadata": {},
   "outputs": [
    {
     "data": {
      "text/plain": [
       "16.397916666666667"
      ]
     },
     "execution_count": 409,
     "metadata": {},
     "output_type": "execute_result"
    }
   ],
   "source": [
    "X_train['People_Review'].mean()"
   ]
  },
  {
   "cell_type": "code",
   "execution_count": 410,
   "metadata": {},
   "outputs": [
    {
     "name": "stdout",
     "output_type": "stream",
     "text": [
      "<class 'pandas.core.frame.DataFrame'>\n",
      "Int64Index: 3235 entries, 2156 to 3199\n",
      "Data columns (total 7 columns):\n",
      " #   Column                  Non-Null Count  Dtype  \n",
      "---  ------                  --------------  -----  \n",
      " 0   People_Review           1920 non-null   float64\n",
      " 1   Deliver_Charges         544 non-null    float64\n",
      " 2   Seller_Rating           3036 non-null   float64\n",
      " 3   Shipping_Timing_Rating  3235 non-null   float64\n",
      " 4   Discount_Percentage     2999 non-null   float64\n",
      " 5   Original_Price          3235 non-null   float64\n",
      " 6   Chat_Responce_Rate      3226 non-null   float64\n",
      "dtypes: float64(7)\n",
      "memory usage: 331.2 KB\n"
     ]
    }
   ],
   "source": [
    "X_train.info()"
   ]
  },
  {
   "cell_type": "code",
   "execution_count": 411,
   "metadata": {},
   "outputs": [
    {
     "data": {
      "text/html": [
       "<div>\n",
       "<style scoped>\n",
       "    .dataframe tbody tr th:only-of-type {\n",
       "        vertical-align: middle;\n",
       "    }\n",
       "\n",
       "    .dataframe tbody tr th {\n",
       "        vertical-align: top;\n",
       "    }\n",
       "\n",
       "    .dataframe thead th {\n",
       "        text-align: right;\n",
       "    }\n",
       "</style>\n",
       "<table border=\"1\" class=\"dataframe\">\n",
       "  <thead>\n",
       "    <tr style=\"text-align: right;\">\n",
       "      <th></th>\n",
       "      <th>People_Review</th>\n",
       "      <th>Deliver_Charges</th>\n",
       "      <th>Seller_Rating</th>\n",
       "      <th>Shipping_Timing_Rating</th>\n",
       "      <th>Discount_Percentage</th>\n",
       "      <th>Original_Price</th>\n",
       "      <th>Chat_Responce_Rate</th>\n",
       "    </tr>\n",
       "  </thead>\n",
       "  <tbody>\n",
       "    <tr>\n",
       "      <th>2156</th>\n",
       "      <td>16.397917</td>\n",
       "      <td>0.0</td>\n",
       "      <td>82.0</td>\n",
       "      <td>100.0</td>\n",
       "      <td>65.0</td>\n",
       "      <td>999.0</td>\n",
       "      <td>92.5</td>\n",
       "    </tr>\n",
       "    <tr>\n",
       "      <th>3590</th>\n",
       "      <td>16.397917</td>\n",
       "      <td>0.0</td>\n",
       "      <td>86.0</td>\n",
       "      <td>100.0</td>\n",
       "      <td>77.0</td>\n",
       "      <td>1999.0</td>\n",
       "      <td>100.0</td>\n",
       "    </tr>\n",
       "    <tr>\n",
       "      <th>2112</th>\n",
       "      <td>7.000000</td>\n",
       "      <td>0.0</td>\n",
       "      <td>87.0</td>\n",
       "      <td>100.0</td>\n",
       "      <td>67.0</td>\n",
       "      <td>995.0</td>\n",
       "      <td>100.0</td>\n",
       "    </tr>\n",
       "    <tr>\n",
       "      <th>92</th>\n",
       "      <td>57.000000</td>\n",
       "      <td>0.0</td>\n",
       "      <td>98.0</td>\n",
       "      <td>97.0</td>\n",
       "      <td>1.0</td>\n",
       "      <td>600.0</td>\n",
       "      <td>100.0</td>\n",
       "    </tr>\n",
       "    <tr>\n",
       "      <th>2227</th>\n",
       "      <td>16.397917</td>\n",
       "      <td>99.0</td>\n",
       "      <td>74.0</td>\n",
       "      <td>95.0</td>\n",
       "      <td>59.0</td>\n",
       "      <td>600.0</td>\n",
       "      <td>97.0</td>\n",
       "    </tr>\n",
       "    <tr>\n",
       "      <th>3158</th>\n",
       "      <td>16.397917</td>\n",
       "      <td>0.0</td>\n",
       "      <td>87.0</td>\n",
       "      <td>100.0</td>\n",
       "      <td>8.0</td>\n",
       "      <td>325.0</td>\n",
       "      <td>100.0</td>\n",
       "    </tr>\n",
       "    <tr>\n",
       "      <th>1115</th>\n",
       "      <td>2.000000</td>\n",
       "      <td>0.0</td>\n",
       "      <td>87.0</td>\n",
       "      <td>100.0</td>\n",
       "      <td>79.0</td>\n",
       "      <td>1999.0</td>\n",
       "      <td>100.0</td>\n",
       "    </tr>\n",
       "    <tr>\n",
       "      <th>1513</th>\n",
       "      <td>8.000000</td>\n",
       "      <td>0.0</td>\n",
       "      <td>93.0</td>\n",
       "      <td>95.0</td>\n",
       "      <td>1.0</td>\n",
       "      <td>500.0</td>\n",
       "      <td>97.0</td>\n",
       "    </tr>\n",
       "    <tr>\n",
       "      <th>2752</th>\n",
       "      <td>16.397917</td>\n",
       "      <td>99.0</td>\n",
       "      <td>80.0</td>\n",
       "      <td>100.0</td>\n",
       "      <td>38.0</td>\n",
       "      <td>1599.0</td>\n",
       "      <td>97.0</td>\n",
       "    </tr>\n",
       "    <tr>\n",
       "      <th>24</th>\n",
       "      <td>13.000000</td>\n",
       "      <td>0.0</td>\n",
       "      <td>98.0</td>\n",
       "      <td>97.0</td>\n",
       "      <td>26.0</td>\n",
       "      <td>600.0</td>\n",
       "      <td>100.0</td>\n",
       "    </tr>\n",
       "  </tbody>\n",
       "</table>\n",
       "</div>"
      ],
      "text/plain": [
       "      People_Review  Deliver_Charges  Seller_Rating  Shipping_Timing_Rating  \\\n",
       "2156      16.397917              0.0           82.0                   100.0   \n",
       "3590      16.397917              0.0           86.0                   100.0   \n",
       "2112       7.000000              0.0           87.0                   100.0   \n",
       "92        57.000000              0.0           98.0                    97.0   \n",
       "2227      16.397917             99.0           74.0                    95.0   \n",
       "3158      16.397917              0.0           87.0                   100.0   \n",
       "1115       2.000000              0.0           87.0                   100.0   \n",
       "1513       8.000000              0.0           93.0                    95.0   \n",
       "2752      16.397917             99.0           80.0                   100.0   \n",
       "24        13.000000              0.0           98.0                    97.0   \n",
       "\n",
       "      Discount_Percentage  Original_Price  Chat_Responce_Rate  \n",
       "2156                 65.0           999.0                92.5  \n",
       "3590                 77.0          1999.0               100.0  \n",
       "2112                 67.0           995.0               100.0  \n",
       "92                    1.0           600.0               100.0  \n",
       "2227                 59.0           600.0                97.0  \n",
       "3158                  8.0           325.0               100.0  \n",
       "1115                 79.0          1999.0               100.0  \n",
       "1513                  1.0           500.0                97.0  \n",
       "2752                 38.0          1599.0                97.0  \n",
       "24                   26.0           600.0               100.0  "
      ]
     },
     "execution_count": 411,
     "metadata": {},
     "output_type": "execute_result"
    }
   ],
   "source": [
    "# Imputing Missing Values using pandas fillna() method\n",
    "X_train['People_Review'] = X_train['People_Review'].fillna(value = X_train['People_Review'].mean())\n",
    "X_test['People_Review'] = X_test['People_Review'].fillna(value = X_test['People_Review'].mean())\n",
    "\n",
    "X_train['Deliver_Charges'] = X_train['Deliver_Charges'].fillna(value = 0)\n",
    "X_test['Deliver_Charges'] = X_test['Deliver_Charges'].fillna(value = 0)\n",
    "\n",
    "X_train['Discount_Percentage'] = X_train['Discount_Percentage'].fillna(value = 0)\n",
    "X_test['Discount_Percentage'] = X_test['Discount_Percentage'].fillna(value = 0)\n",
    "\n",
    "X_train['Seller_Rating'] = X_train['Seller_Rating'].fillna(value = X_train['Seller_Rating'].mode()[0])\n",
    "X_test['Seller_Rating'] = X_test['Seller_Rating'].fillna(value = X_test['Seller_Rating'].mode()[0])\n",
    "\n",
    "X_train['Shipping_Timing_Rating'] = X_train['Shipping_Timing_Rating'].fillna(value = X_train['Shipping_Timing_Rating'].mode()[0])\n",
    "X_test['Shipping_Timing_Rating'] = X_test['Shipping_Timing_Rating'].fillna(value = X_test['Shipping_Timing_Rating'].mode()[0])\n",
    "\n",
    "X_train['Chat_Responce_Rate'] = X_train['Chat_Responce_Rate'].fillna(value = X_train['Chat_Responce_Rate'].mode()[0])\n",
    "X_test['Chat_Responce_Rate'] = X_test['Chat_Responce_Rate'].fillna(value = X_test['Chat_Responce_Rate'].mode()[0])\n",
    "\n",
    "X_train.head(10)"
   ]
  },
  {
   "cell_type": "markdown",
   "metadata": {},
   "source": [
    "#### Using Pipeline"
   ]
  },
  {
   "cell_type": "code",
   "execution_count": 412,
   "metadata": {},
   "outputs": [],
   "source": [
    "# from sklearn.preprocessing import StandardScaler\n",
    "# from sklearn.impute import SimpleImputer\n",
    "# from sklearn.pipeline import Pipeline\n",
    "# from sklearn.compose import ColumnTransformer\n",
    "# from sklearn.linear_model import LinearRegression\n",
    "# from sklearn.metrics import mean_squared_error, r2_score\n",
    "\n",
    "# inputingDeCh = Pipeline(steps=\n",
    "#                     [\n",
    "#                         ('simpleImZaro', SimpleImputer(missing_values = np.nan, strategy='constant', fill_value=16.4))\n",
    "#                    ])\n",
    "# inputingDeCh = Pipeline(steps=\n",
    "#                     [\n",
    "#                         ('simpleImZaro', SimpleImputer(missing_values = np.nan, strategy='constant', fill_value=0))\n",
    "#                     ])\n",
    "# inputingPeRe = Pipeline(steps=[\n",
    "#                         ('simpleImMean', SimpleImputer(missing_values = np.nan, strategy = 'most_frequent'))\n",
    "#                     ])\n",
    "\n",
    "                    \n",
    "# col_trans = ColumnTransformer(transformers=\n",
    "#                               [\n",
    "#                                 ('Encoder', inputingDeCh,[0]),\n",
    "#                                 ('ImputerZero', inputingDeCh, [1,4]),\n",
    "#                                 ('ImputeMean', inputingPeRe, [2,3,6])\n",
    "#                               ])\n",
    "# col_trans.fit(X_train)\n",
    "# x_trained = col_trans.transform(X_train)\n",
    "# X_tested = col_trans.transform(X_test)\n"
   ]
  },
  {
   "cell_type": "code",
   "execution_count": 413,
   "metadata": {},
   "outputs": [
    {
     "data": {
      "text/html": [
       "<div>\n",
       "<style scoped>\n",
       "    .dataframe tbody tr th:only-of-type {\n",
       "        vertical-align: middle;\n",
       "    }\n",
       "\n",
       "    .dataframe tbody tr th {\n",
       "        vertical-align: top;\n",
       "    }\n",
       "\n",
       "    .dataframe thead th {\n",
       "        text-align: right;\n",
       "    }\n",
       "</style>\n",
       "<table border=\"1\" class=\"dataframe\">\n",
       "  <thead>\n",
       "    <tr style=\"text-align: right;\">\n",
       "      <th></th>\n",
       "      <th>People_Review</th>\n",
       "      <th>Deliver_Charges</th>\n",
       "      <th>Seller_Rating</th>\n",
       "      <th>Shipping_Timing_Rating</th>\n",
       "      <th>Discount_Percentage</th>\n",
       "      <th>Original_Price</th>\n",
       "      <th>Chat_Responce_Rate</th>\n",
       "    </tr>\n",
       "  </thead>\n",
       "  <tbody>\n",
       "    <tr>\n",
       "      <th>2156</th>\n",
       "      <td>16.397917</td>\n",
       "      <td>0.0</td>\n",
       "      <td>82.0</td>\n",
       "      <td>100.0</td>\n",
       "      <td>65.0</td>\n",
       "      <td>999.0</td>\n",
       "      <td>92.5</td>\n",
       "    </tr>\n",
       "    <tr>\n",
       "      <th>3590</th>\n",
       "      <td>16.397917</td>\n",
       "      <td>0.0</td>\n",
       "      <td>86.0</td>\n",
       "      <td>100.0</td>\n",
       "      <td>77.0</td>\n",
       "      <td>1999.0</td>\n",
       "      <td>100.0</td>\n",
       "    </tr>\n",
       "    <tr>\n",
       "      <th>2112</th>\n",
       "      <td>7.000000</td>\n",
       "      <td>0.0</td>\n",
       "      <td>87.0</td>\n",
       "      <td>100.0</td>\n",
       "      <td>67.0</td>\n",
       "      <td>995.0</td>\n",
       "      <td>100.0</td>\n",
       "    </tr>\n",
       "    <tr>\n",
       "      <th>92</th>\n",
       "      <td>57.000000</td>\n",
       "      <td>0.0</td>\n",
       "      <td>98.0</td>\n",
       "      <td>97.0</td>\n",
       "      <td>1.0</td>\n",
       "      <td>600.0</td>\n",
       "      <td>100.0</td>\n",
       "    </tr>\n",
       "    <tr>\n",
       "      <th>2227</th>\n",
       "      <td>16.397917</td>\n",
       "      <td>99.0</td>\n",
       "      <td>74.0</td>\n",
       "      <td>95.0</td>\n",
       "      <td>59.0</td>\n",
       "      <td>600.0</td>\n",
       "      <td>97.0</td>\n",
       "    </tr>\n",
       "    <tr>\n",
       "      <th>3158</th>\n",
       "      <td>16.397917</td>\n",
       "      <td>0.0</td>\n",
       "      <td>87.0</td>\n",
       "      <td>100.0</td>\n",
       "      <td>8.0</td>\n",
       "      <td>325.0</td>\n",
       "      <td>100.0</td>\n",
       "    </tr>\n",
       "    <tr>\n",
       "      <th>1115</th>\n",
       "      <td>2.000000</td>\n",
       "      <td>0.0</td>\n",
       "      <td>87.0</td>\n",
       "      <td>100.0</td>\n",
       "      <td>79.0</td>\n",
       "      <td>1999.0</td>\n",
       "      <td>100.0</td>\n",
       "    </tr>\n",
       "    <tr>\n",
       "      <th>1513</th>\n",
       "      <td>8.000000</td>\n",
       "      <td>0.0</td>\n",
       "      <td>93.0</td>\n",
       "      <td>95.0</td>\n",
       "      <td>1.0</td>\n",
       "      <td>500.0</td>\n",
       "      <td>97.0</td>\n",
       "    </tr>\n",
       "    <tr>\n",
       "      <th>2752</th>\n",
       "      <td>16.397917</td>\n",
       "      <td>99.0</td>\n",
       "      <td>80.0</td>\n",
       "      <td>100.0</td>\n",
       "      <td>38.0</td>\n",
       "      <td>1599.0</td>\n",
       "      <td>97.0</td>\n",
       "    </tr>\n",
       "    <tr>\n",
       "      <th>24</th>\n",
       "      <td>13.000000</td>\n",
       "      <td>0.0</td>\n",
       "      <td>98.0</td>\n",
       "      <td>97.0</td>\n",
       "      <td>26.0</td>\n",
       "      <td>600.0</td>\n",
       "      <td>100.0</td>\n",
       "    </tr>\n",
       "  </tbody>\n",
       "</table>\n",
       "</div>"
      ],
      "text/plain": [
       "      People_Review  Deliver_Charges  Seller_Rating  Shipping_Timing_Rating  \\\n",
       "2156      16.397917              0.0           82.0                   100.0   \n",
       "3590      16.397917              0.0           86.0                   100.0   \n",
       "2112       7.000000              0.0           87.0                   100.0   \n",
       "92        57.000000              0.0           98.0                    97.0   \n",
       "2227      16.397917             99.0           74.0                    95.0   \n",
       "3158      16.397917              0.0           87.0                   100.0   \n",
       "1115       2.000000              0.0           87.0                   100.0   \n",
       "1513       8.000000              0.0           93.0                    95.0   \n",
       "2752      16.397917             99.0           80.0                   100.0   \n",
       "24        13.000000              0.0           98.0                    97.0   \n",
       "\n",
       "      Discount_Percentage  Original_Price  Chat_Responce_Rate  \n",
       "2156                 65.0           999.0                92.5  \n",
       "3590                 77.0          1999.0               100.0  \n",
       "2112                 67.0           995.0               100.0  \n",
       "92                    1.0           600.0               100.0  \n",
       "2227                 59.0           600.0                97.0  \n",
       "3158                  8.0           325.0               100.0  \n",
       "1115                 79.0          1999.0               100.0  \n",
       "1513                  1.0           500.0                97.0  \n",
       "2752                 38.0          1599.0                97.0  \n",
       "24                   26.0           600.0               100.0  "
      ]
     },
     "execution_count": 413,
     "metadata": {},
     "output_type": "execute_result"
    }
   ],
   "source": [
    "X_train.head(10)"
   ]
  },
  {
   "cell_type": "code",
   "execution_count": 414,
   "metadata": {},
   "outputs": [],
   "source": [
    "# As these columns does have any linear relationship with output label so drop them in the X_train dataset\n",
    "X_train = X_train.drop(['People_Review', 'Seller_Rating', 'Shipping_Timing_Rating', 'Discount_Percentage', 'Chat_Responce_Rate'], axis = 1)"
   ]
  },
  {
   "cell_type": "code",
   "execution_count": 415,
   "metadata": {},
   "outputs": [],
   "source": [
    "# As these columns does have any linear relationship with output label so drop them in the X_test dataset\n",
    "X_test = X_test.drop(['People_Review', 'Seller_Rating', 'Shipping_Timing_Rating', 'Discount_Percentage', 'Chat_Responce_Rate'], axis = 1)"
   ]
  },
  {
   "cell_type": "code",
   "execution_count": 416,
   "metadata": {},
   "outputs": [],
   "source": [
    "from sklearn.preprocessing import StandardScaler\n",
    "ss = StandardScaler()\n",
    "# fit the scaler to the train set, it will learn the parameters\n",
    "ss.fit(X_train)\n",
    "# transform train and test sets\n",
    "X_train_scaled = ss.transform(X_train)\n",
    "X_test_scaled = ss.transform(X_test)"
   ]
  },
  {
   "cell_type": "code",
   "execution_count": 417,
   "metadata": {},
   "outputs": [],
   "source": [
    "# convert the two numPy arrays to Pandas dataframes\n",
    "X_train_scaled = pd.DataFrame(X_train_scaled, columns=X_train.columns)\n",
    "X_test_scaled = pd.DataFrame(X_test_scaled, columns=X_test.columns)\n"
   ]
  },
  {
   "cell_type": "code",
   "execution_count": 418,
   "metadata": {},
   "outputs": [
    {
     "data": {
      "text/html": [
       "<div>\n",
       "<style scoped>\n",
       "    .dataframe tbody tr th:only-of-type {\n",
       "        vertical-align: middle;\n",
       "    }\n",
       "\n",
       "    .dataframe tbody tr th {\n",
       "        vertical-align: top;\n",
       "    }\n",
       "\n",
       "    .dataframe thead th {\n",
       "        text-align: right;\n",
       "    }\n",
       "</style>\n",
       "<table border=\"1\" class=\"dataframe\">\n",
       "  <thead>\n",
       "    <tr style=\"text-align: right;\">\n",
       "      <th></th>\n",
       "      <th>Deliver_Charges</th>\n",
       "      <th>Original_Price</th>\n",
       "    </tr>\n",
       "  </thead>\n",
       "  <tbody>\n",
       "    <tr>\n",
       "      <th>0</th>\n",
       "      <td>-0.442416</td>\n",
       "      <td>-0.340256</td>\n",
       "    </tr>\n",
       "    <tr>\n",
       "      <th>1</th>\n",
       "      <td>-0.442416</td>\n",
       "      <td>0.860756</td>\n",
       "    </tr>\n",
       "    <tr>\n",
       "      <th>2</th>\n",
       "      <td>-0.442416</td>\n",
       "      <td>-0.345060</td>\n",
       "    </tr>\n",
       "    <tr>\n",
       "      <th>3</th>\n",
       "      <td>-0.442416</td>\n",
       "      <td>-0.819460</td>\n",
       "    </tr>\n",
       "    <tr>\n",
       "      <th>4</th>\n",
       "      <td>1.914531</td>\n",
       "      <td>-0.819460</td>\n",
       "    </tr>\n",
       "    <tr>\n",
       "      <th>...</th>\n",
       "      <td>...</td>\n",
       "      <td>...</td>\n",
       "    </tr>\n",
       "    <tr>\n",
       "      <th>3230</th>\n",
       "      <td>-0.442416</td>\n",
       "      <td>-0.345060</td>\n",
       "    </tr>\n",
       "    <tr>\n",
       "      <th>3231</th>\n",
       "      <td>-0.442416</td>\n",
       "      <td>0.860756</td>\n",
       "    </tr>\n",
       "    <tr>\n",
       "      <th>3232</th>\n",
       "      <td>-0.442416</td>\n",
       "      <td>0.620554</td>\n",
       "    </tr>\n",
       "    <tr>\n",
       "      <th>3233</th>\n",
       "      <td>-0.442416</td>\n",
       "      <td>0.860756</td>\n",
       "    </tr>\n",
       "    <tr>\n",
       "      <th>3234</th>\n",
       "      <td>-0.442416</td>\n",
       "      <td>-0.339055</td>\n",
       "    </tr>\n",
       "  </tbody>\n",
       "</table>\n",
       "<p>3235 rows × 2 columns</p>\n",
       "</div>"
      ],
      "text/plain": [
       "      Deliver_Charges  Original_Price\n",
       "0           -0.442416       -0.340256\n",
       "1           -0.442416        0.860756\n",
       "2           -0.442416       -0.345060\n",
       "3           -0.442416       -0.819460\n",
       "4            1.914531       -0.819460\n",
       "...               ...             ...\n",
       "3230        -0.442416       -0.345060\n",
       "3231        -0.442416        0.860756\n",
       "3232        -0.442416        0.620554\n",
       "3233        -0.442416        0.860756\n",
       "3234        -0.442416       -0.339055\n",
       "\n",
       "[3235 rows x 2 columns]"
      ]
     },
     "execution_count": 418,
     "metadata": {},
     "output_type": "execute_result"
    }
   ],
   "source": [
    "X_train_scaled"
   ]
  },
  {
   "cell_type": "code",
   "execution_count": 419,
   "metadata": {},
   "outputs": [
    {
     "data": {
      "text/html": [
       "<div>\n",
       "<style scoped>\n",
       "    .dataframe tbody tr th:only-of-type {\n",
       "        vertical-align: middle;\n",
       "    }\n",
       "\n",
       "    .dataframe tbody tr th {\n",
       "        vertical-align: top;\n",
       "    }\n",
       "\n",
       "    .dataframe thead th {\n",
       "        text-align: right;\n",
       "    }\n",
       "</style>\n",
       "<table border=\"1\" class=\"dataframe\">\n",
       "  <thead>\n",
       "    <tr style=\"text-align: right;\">\n",
       "      <th></th>\n",
       "      <th>Deliver_Charges</th>\n",
       "      <th>Original_Price</th>\n",
       "    </tr>\n",
       "  </thead>\n",
       "  <tbody>\n",
       "    <tr>\n",
       "      <th>0</th>\n",
       "      <td>-0.442416</td>\n",
       "      <td>-0.345060</td>\n",
       "    </tr>\n",
       "    <tr>\n",
       "      <th>1</th>\n",
       "      <td>-0.442416</td>\n",
       "      <td>0.860756</td>\n",
       "    </tr>\n",
       "    <tr>\n",
       "      <th>2</th>\n",
       "      <td>-0.442416</td>\n",
       "      <td>0.860756</td>\n",
       "    </tr>\n",
       "    <tr>\n",
       "      <th>3</th>\n",
       "      <td>-0.442416</td>\n",
       "      <td>0.500453</td>\n",
       "    </tr>\n",
       "    <tr>\n",
       "      <th>4</th>\n",
       "      <td>-0.442416</td>\n",
       "      <td>-1.185769</td>\n",
       "    </tr>\n",
       "    <tr>\n",
       "      <th>...</th>\n",
       "      <td>...</td>\n",
       "      <td>...</td>\n",
       "    </tr>\n",
       "    <tr>\n",
       "      <th>804</th>\n",
       "      <td>1.914531</td>\n",
       "      <td>-0.820661</td>\n",
       "    </tr>\n",
       "    <tr>\n",
       "      <th>805</th>\n",
       "      <td>1.914531</td>\n",
       "      <td>-0.819460</td>\n",
       "    </tr>\n",
       "    <tr>\n",
       "      <th>806</th>\n",
       "      <td>-0.442416</td>\n",
       "      <td>-1.449991</td>\n",
       "    </tr>\n",
       "    <tr>\n",
       "      <th>807</th>\n",
       "      <td>-0.442416</td>\n",
       "      <td>-0.820661</td>\n",
       "    </tr>\n",
       "    <tr>\n",
       "      <th>808</th>\n",
       "      <td>-0.442416</td>\n",
       "      <td>0.860756</td>\n",
       "    </tr>\n",
       "  </tbody>\n",
       "</table>\n",
       "<p>809 rows × 2 columns</p>\n",
       "</div>"
      ],
      "text/plain": [
       "     Deliver_Charges  Original_Price\n",
       "0          -0.442416       -0.345060\n",
       "1          -0.442416        0.860756\n",
       "2          -0.442416        0.860756\n",
       "3          -0.442416        0.500453\n",
       "4          -0.442416       -1.185769\n",
       "..               ...             ...\n",
       "804         1.914531       -0.820661\n",
       "805         1.914531       -0.819460\n",
       "806        -0.442416       -1.449991\n",
       "807        -0.442416       -0.820661\n",
       "808        -0.442416        0.860756\n",
       "\n",
       "[809 rows x 2 columns]"
      ]
     },
     "execution_count": 419,
     "metadata": {},
     "output_type": "execute_result"
    }
   ],
   "source": [
    "X_test_scaled"
   ]
  },
  {
   "cell_type": "code",
   "execution_count": 420,
   "metadata": {},
   "outputs": [
    {
     "data": {
      "text/plain": [
       "2866    324.0\n",
       "2493    445.0\n",
       "3943    450.0\n",
       "601     329.0\n",
       "2575    295.0\n",
       "        ...  \n",
       "1632    385.0\n",
       "3290    248.0\n",
       "2577     75.0\n",
       "4010    315.0\n",
       "2844    450.0\n",
       "Name: Selling_Price, Length: 809, dtype: float64"
      ]
     },
     "execution_count": 420,
     "metadata": {},
     "output_type": "execute_result"
    }
   ],
   "source": [
    "y_test"
   ]
  },
  {
   "cell_type": "code",
   "execution_count": 277,
   "metadata": {},
   "outputs": [
    {
     "name": "stdout",
     "output_type": "stream",
     "text": [
      "Coefficients: [0. 0.]\n",
      "Intercept: 558.2760432766615\n",
      "Mean Squared Error: 214829.04670023159\n",
      "R-squared: -0.0026799977554459176\n"
     ]
    }
   ],
   "source": [
    "# from sklearn.linear_model import LinearRegression\n",
    "from sklearn.linear_model import Ridge, Lasso\n",
    "from sklearn.metrics import mean_squared_error, r2_score\n",
    "\n",
    "# Create a linear regression model\n",
    "model = Lasso(alpha=10000000)\n",
    "# Fit the model to the training data\n",
    "model.fit(X_train, y_train)\n",
    "\n",
    "# Make predictions on the training and testing data\n",
    "y_train_pred = model.predict(X_train_scaled)\n",
    "y_test_pred = model.predict(X_test_scaled)\n",
    "\n",
    "# # Step 6: Make Predictions\n",
    "# y_pred = model.predict(X_test)\n",
    "# Step 7: Evaluate the Model\n",
    "# Coefficients and intercept\n",
    "coefficients = model.coef_\n",
    "intercept = model.intercept_\n",
    "# print(\"Coefficients: \", coefficients)\n",
    "# print(\"Intercept: \", intercept)\n",
    "# # # Evaluation metrics\n",
    "mse = mean_squared_error(y_test, y_test_pred)\n",
    "r2 = r2_score(y_test, y_test_pred)\n",
    "# print(y_test_pred)\n",
    "\n",
    "\n",
    "print(f'Coefficients: {coefficients}')\n",
    "print(f'Intercept: {intercept}')\n",
    "print(f'Mean Squared Error: {mse}')\n",
    "print(f'R-squared: {r2}')"
   ]
  },
  {
   "cell_type": "markdown",
   "metadata": {},
   "source": [
    "## Pickling the Model"
   ]
  },
  {
   "cell_type": "code",
   "execution_count": 278,
   "metadata": {},
   "outputs": [],
   "source": [
    "import pickle\n",
    "fileName = 'model.sav'\n",
    "pickle.dump(model, open(fileName, 'wb')) "
   ]
  },
  {
   "cell_type": "code",
   "execution_count": 279,
   "metadata": {},
   "outputs": [],
   "source": [
    "load_model = pickle.load(open(fileName, 'rb'))"
   ]
  },
  {
   "cell_type": "code",
   "execution_count": 281,
   "metadata": {},
   "outputs": [
    {
     "name": "stdout",
     "output_type": "stream",
     "text": [
      "-0.0026799977554459176\n"
     ]
    }
   ],
   "source": [
    "r = load_model.score(X_test_scaled, y_test)\n",
    "print(r)"
   ]
  },
  {
   "cell_type": "code",
   "execution_count": 139,
   "metadata": {},
   "outputs": [
    {
     "name": "stdout",
     "output_type": "stream",
     "text": [
      "Mean Squared Error: 235718.5306506084\n",
      "R-squared: -0.10017830183582066\n"
     ]
    }
   ],
   "source": [
    "# model = Pipeline(steps=[\n",
    "#                         ('preprocessing', col_trans),\n",
    "#                         ('scaling', StandardScaler()),\n",
    "#                         ('regressor', LinearRegression())\n",
    "#                         ])\n",
    "# model.fit(X_train, y_train)\n",
    "\n",
    "# # Step 6: Make Predictions\n",
    "# y_pred = model.predict(X_test)\n",
    "# # Step 7: Evaluate the Model\n",
    "# # Coefficients and intercept\n",
    "# # coefficients = model.coef_\n",
    "# # intercept = model.intercept_\n",
    "\n",
    "# # Evaluation metrics\n",
    "# mse = mean_squared_error(y_test, y_pred)\n",
    "# r2 = r2_score(y_test, y_pred)\n",
    "\n",
    "# # print(f'Coefficients: {coefficients}')\n",
    "# # print(f'Intercept: {intercept}')\n",
    "# print(f'Mean Squared Error: {mse}')\n",
    "# print(f'R-squared: {r2}')"
   ]
  }
 ],
 "metadata": {
  "kernelspec": {
   "display_name": "base",
   "language": "python",
   "name": "python3"
  },
  "language_info": {
   "codemirror_mode": {
    "name": "ipython",
    "version": 3
   },
   "file_extension": ".py",
   "mimetype": "text/x-python",
   "name": "python",
   "nbconvert_exporter": "python",
   "pygments_lexer": "ipython3",
   "version": "3.11.4"
  }
 },
 "nbformat": 4,
 "nbformat_minor": 2
}
